{
 "cells": [
  {
   "cell_type": "markdown",
   "metadata": {},
   "source": [
    "from scipy import stats\n",
    "import pandas as pd\n",
    "import numpy as np\n",
    "import matplotlib.pyplot as plt\n",
    "import seaborn as sns\n",
    "import requests\n",
    "%matplotlib inline"
   ]
  },
  {
   "cell_type": "markdown",
   "metadata": {},
   "source": [
    "### data prep "
   ]
  },
  {
   "cell_type": "code",
   "execution_count": 1,
   "metadata": {},
   "outputs": [],
   "source": [
    "import pandas as pd"
   ]
  },
  {
   "cell_type": "code",
   "execution_count": 2,
   "metadata": {},
   "outputs": [],
   "source": [
    "crime_data=pd.read_csv(\"Police_Department_Incident_Reports__Historical_2003_to_May_2018.csv\")"
   ]
  },
  {
   "cell_type": "code",
   "execution_count": 3,
   "metadata": {},
   "outputs": [
    {
     "data": {
      "text/html": [
       "<div>\n",
       "<style scoped>\n",
       "    .dataframe tbody tr th:only-of-type {\n",
       "        vertical-align: middle;\n",
       "    }\n",
       "\n",
       "    .dataframe tbody tr th {\n",
       "        vertical-align: top;\n",
       "    }\n",
       "\n",
       "    .dataframe thead th {\n",
       "        text-align: right;\n",
       "    }\n",
       "</style>\n",
       "<table border=\"1\" class=\"dataframe\">\n",
       "  <thead>\n",
       "    <tr style=\"text-align: right;\">\n",
       "      <th></th>\n",
       "      <th>IncidntNum</th>\n",
       "      <th>Category</th>\n",
       "      <th>Descript</th>\n",
       "      <th>DayOfWeek</th>\n",
       "      <th>Date</th>\n",
       "      <th>Time</th>\n",
       "      <th>PdDistrict</th>\n",
       "      <th>Resolution</th>\n",
       "      <th>Address</th>\n",
       "      <th>X</th>\n",
       "      <th>Y</th>\n",
       "      <th>Location</th>\n",
       "      <th>PdId</th>\n",
       "      <th>Date1</th>\n",
       "    </tr>\n",
       "  </thead>\n",
       "  <tbody>\n",
       "    <tr>\n",
       "      <td>6</td>\n",
       "      <td>136080803</td>\n",
       "      <td>LARCENY/THEFT</td>\n",
       "      <td>GRAND THEFT FROM LOCKED AUTO</td>\n",
       "      <td>Sunday</td>\n",
       "      <td>04/07/2013</td>\n",
       "      <td>12:30</td>\n",
       "      <td>SOUTHERN</td>\n",
       "      <td>NONE</td>\n",
       "      <td>800 Block of BRYANT ST</td>\n",
       "      <td>-122.403405</td>\n",
       "      <td>37.775421</td>\n",
       "      <td>POINT (-122.403404791479 37.775420706711)</td>\n",
       "      <td>13608080306244</td>\n",
       "      <td>2013-04-07</td>\n",
       "    </tr>\n",
       "    <tr>\n",
       "      <td>21</td>\n",
       "      <td>130320146</td>\n",
       "      <td>ASSAULT</td>\n",
       "      <td>THREATS AGAINST LIFE</td>\n",
       "      <td>Thursday</td>\n",
       "      <td>04/18/2013</td>\n",
       "      <td>22:46</td>\n",
       "      <td>INGLESIDE</td>\n",
       "      <td>NONE</td>\n",
       "      <td>1800 Block of SUNNYDALE AV</td>\n",
       "      <td>-122.417108</td>\n",
       "      <td>37.712256</td>\n",
       "      <td>POINT (-122.417107986993 37.7122561827524)</td>\n",
       "      <td>13032014619057</td>\n",
       "      <td>2013-04-18</td>\n",
       "    </tr>\n",
       "    <tr>\n",
       "      <td>32</td>\n",
       "      <td>120010692</td>\n",
       "      <td>LARCENY/THEFT</td>\n",
       "      <td>GRAND THEFT OF PROPERTY</td>\n",
       "      <td>Tuesday</td>\n",
       "      <td>01/03/2012</td>\n",
       "      <td>22:00</td>\n",
       "      <td>CENTRAL</td>\n",
       "      <td>NONE</td>\n",
       "      <td>500 Block of SUTTER ST</td>\n",
       "      <td>-122.409445</td>\n",
       "      <td>37.789173</td>\n",
       "      <td>POINT (-122.409445484488 37.789173205941)</td>\n",
       "      <td>12001069206374</td>\n",
       "      <td>2012-01-03</td>\n",
       "    </tr>\n",
       "    <tr>\n",
       "      <td>38</td>\n",
       "      <td>126052981</td>\n",
       "      <td>VANDALISM</td>\n",
       "      <td>MALICIOUS MISCHIEF, VANDALISM</td>\n",
       "      <td>Monday</td>\n",
       "      <td>04/09/2012</td>\n",
       "      <td>03:25</td>\n",
       "      <td>SOUTHERN</td>\n",
       "      <td>NONE</td>\n",
       "      <td>7TH ST / TOWNSEND ST</td>\n",
       "      <td>-122.401658</td>\n",
       "      <td>37.771817</td>\n",
       "      <td>POINT (-122.401658145147 37.7718165835839)</td>\n",
       "      <td>12605298128150</td>\n",
       "      <td>2012-04-09</td>\n",
       "    </tr>\n",
       "    <tr>\n",
       "      <td>41</td>\n",
       "      <td>131045012</td>\n",
       "      <td>VEHICLE THEFT</td>\n",
       "      <td>STOLEN MOTORCYCLE</td>\n",
       "      <td>Thursday</td>\n",
       "      <td>12/12/2013</td>\n",
       "      <td>10:00</td>\n",
       "      <td>MISSION</td>\n",
       "      <td>NONE</td>\n",
       "      <td>2700 Block of BRYANT ST</td>\n",
       "      <td>-122.408831</td>\n",
       "      <td>37.750390</td>\n",
       "      <td>POINT (-122.408831121436 37.7503895174041)</td>\n",
       "      <td>13104501207023</td>\n",
       "      <td>2013-12-12</td>\n",
       "    </tr>\n",
       "    <tr>\n",
       "      <td>...</td>\n",
       "      <td>...</td>\n",
       "      <td>...</td>\n",
       "      <td>...</td>\n",
       "      <td>...</td>\n",
       "      <td>...</td>\n",
       "      <td>...</td>\n",
       "      <td>...</td>\n",
       "      <td>...</td>\n",
       "      <td>...</td>\n",
       "      <td>...</td>\n",
       "      <td>...</td>\n",
       "      <td>...</td>\n",
       "      <td>...</td>\n",
       "      <td>...</td>\n",
       "    </tr>\n",
       "    <tr>\n",
       "      <td>2215009</td>\n",
       "      <td>100278525</td>\n",
       "      <td>ASSAULT</td>\n",
       "      <td>BATTERY WITH SERIOUS INJURIES</td>\n",
       "      <td>Wednesday</td>\n",
       "      <td>03/24/2010</td>\n",
       "      <td>17:11</td>\n",
       "      <td>SOUTHERN</td>\n",
       "      <td>NONE</td>\n",
       "      <td>200 Block of 8TH ST</td>\n",
       "      <td>-122.411272</td>\n",
       "      <td>37.776033</td>\n",
       "      <td>POINT (-122.411271940537 37.7760329501244)</td>\n",
       "      <td>10027852504136</td>\n",
       "      <td>2010-03-24</td>\n",
       "    </tr>\n",
       "    <tr>\n",
       "      <td>2215010</td>\n",
       "      <td>130693125</td>\n",
       "      <td>VANDALISM</td>\n",
       "      <td>MALICIOUS MISCHIEF, BREAKING WINDOWS</td>\n",
       "      <td>Tuesday</td>\n",
       "      <td>08/20/2013</td>\n",
       "      <td>15:10</td>\n",
       "      <td>CENTRAL</td>\n",
       "      <td>ARREST, BOOKED</td>\n",
       "      <td>900 Block of COLUMBUS AV</td>\n",
       "      <td>-122.414263</td>\n",
       "      <td>37.803192</td>\n",
       "      <td>POINT (-122.414263444238 37.8031918743285)</td>\n",
       "      <td>13069312528100</td>\n",
       "      <td>2013-08-20</td>\n",
       "    </tr>\n",
       "    <tr>\n",
       "      <td>2215012</td>\n",
       "      <td>110338937</td>\n",
       "      <td>BURGLARY</td>\n",
       "      <td>BURGLARY, HOT PROWL, FORCIBLE ENTRY</td>\n",
       "      <td>Tuesday</td>\n",
       "      <td>04/26/2011</td>\n",
       "      <td>17:55</td>\n",
       "      <td>TARAVAL</td>\n",
       "      <td>NONE</td>\n",
       "      <td>0 Block of STONECREST DR</td>\n",
       "      <td>-122.472757</td>\n",
       "      <td>37.728852</td>\n",
       "      <td>POINT (-122.472757303533 37.7288520705314)</td>\n",
       "      <td>11033893705081</td>\n",
       "      <td>2011-04-26</td>\n",
       "    </tr>\n",
       "    <tr>\n",
       "      <td>2215017</td>\n",
       "      <td>100403681</td>\n",
       "      <td>ASSAULT</td>\n",
       "      <td>ELDER ADULT OR DEPENDENT ABUSE (NOT EMBEZZLEME...</td>\n",
       "      <td>Sunday</td>\n",
       "      <td>05/02/2010</td>\n",
       "      <td>00:03</td>\n",
       "      <td>SOUTHERN</td>\n",
       "      <td>ARREST, BOOKED</td>\n",
       "      <td>900 Block of MARKET ST</td>\n",
       "      <td>-122.408595</td>\n",
       "      <td>37.783707</td>\n",
       "      <td>POINT (-122.408595110869 37.7837069301545)</td>\n",
       "      <td>10040368115041</td>\n",
       "      <td>2010-05-02</td>\n",
       "    </tr>\n",
       "    <tr>\n",
       "      <td>2215020</td>\n",
       "      <td>130355795</td>\n",
       "      <td>VEHICLE THEFT</td>\n",
       "      <td>STOLEN TRUCK</td>\n",
       "      <td>Tuesday</td>\n",
       "      <td>04/30/2013</td>\n",
       "      <td>23:30</td>\n",
       "      <td>MISSION</td>\n",
       "      <td>NONE</td>\n",
       "      <td>200 Block of BARTLETT ST</td>\n",
       "      <td>-122.419699</td>\n",
       "      <td>37.752951</td>\n",
       "      <td>POINT (-122.419698979616 37.752951196703)</td>\n",
       "      <td>13035579507025</td>\n",
       "      <td>2013-04-30</td>\n",
       "    </tr>\n",
       "  </tbody>\n",
       "</table>\n",
       "<p>699235 rows × 14 columns</p>\n",
       "</div>"
      ],
      "text/plain": [
       "         IncidntNum       Category  \\\n",
       "6         136080803  LARCENY/THEFT   \n",
       "21        130320146        ASSAULT   \n",
       "32        120010692  LARCENY/THEFT   \n",
       "38        126052981      VANDALISM   \n",
       "41        131045012  VEHICLE THEFT   \n",
       "...             ...            ...   \n",
       "2215009   100278525        ASSAULT   \n",
       "2215010   130693125      VANDALISM   \n",
       "2215012   110338937       BURGLARY   \n",
       "2215017   100403681        ASSAULT   \n",
       "2215020   130355795  VEHICLE THEFT   \n",
       "\n",
       "                                                  Descript  DayOfWeek  \\\n",
       "6                             GRAND THEFT FROM LOCKED AUTO     Sunday   \n",
       "21                                    THREATS AGAINST LIFE   Thursday   \n",
       "32                                 GRAND THEFT OF PROPERTY    Tuesday   \n",
       "38                           MALICIOUS MISCHIEF, VANDALISM     Monday   \n",
       "41                                       STOLEN MOTORCYCLE   Thursday   \n",
       "...                                                    ...        ...   \n",
       "2215009                      BATTERY WITH SERIOUS INJURIES  Wednesday   \n",
       "2215010               MALICIOUS MISCHIEF, BREAKING WINDOWS    Tuesday   \n",
       "2215012                BURGLARY, HOT PROWL, FORCIBLE ENTRY    Tuesday   \n",
       "2215017  ELDER ADULT OR DEPENDENT ABUSE (NOT EMBEZZLEME...     Sunday   \n",
       "2215020                                       STOLEN TRUCK    Tuesday   \n",
       "\n",
       "               Date   Time PdDistrict      Resolution  \\\n",
       "6        04/07/2013  12:30   SOUTHERN            NONE   \n",
       "21       04/18/2013  22:46  INGLESIDE            NONE   \n",
       "32       01/03/2012  22:00    CENTRAL            NONE   \n",
       "38       04/09/2012  03:25   SOUTHERN            NONE   \n",
       "41       12/12/2013  10:00    MISSION            NONE   \n",
       "...             ...    ...        ...             ...   \n",
       "2215009  03/24/2010  17:11   SOUTHERN            NONE   \n",
       "2215010  08/20/2013  15:10    CENTRAL  ARREST, BOOKED   \n",
       "2215012  04/26/2011  17:55    TARAVAL            NONE   \n",
       "2215017  05/02/2010  00:03   SOUTHERN  ARREST, BOOKED   \n",
       "2215020  04/30/2013  23:30    MISSION            NONE   \n",
       "\n",
       "                            Address           X          Y  \\\n",
       "6            800 Block of BRYANT ST -122.403405  37.775421   \n",
       "21       1800 Block of SUNNYDALE AV -122.417108  37.712256   \n",
       "32           500 Block of SUTTER ST -122.409445  37.789173   \n",
       "38             7TH ST / TOWNSEND ST -122.401658  37.771817   \n",
       "41          2700 Block of BRYANT ST -122.408831  37.750390   \n",
       "...                             ...         ...        ...   \n",
       "2215009         200 Block of 8TH ST -122.411272  37.776033   \n",
       "2215010    900 Block of COLUMBUS AV -122.414263  37.803192   \n",
       "2215012    0 Block of STONECREST DR -122.472757  37.728852   \n",
       "2215017      900 Block of MARKET ST -122.408595  37.783707   \n",
       "2215020    200 Block of BARTLETT ST -122.419699  37.752951   \n",
       "\n",
       "                                           Location            PdId      Date1  \n",
       "6         POINT (-122.403404791479 37.775420706711)  13608080306244 2013-04-07  \n",
       "21       POINT (-122.417107986993 37.7122561827524)  13032014619057 2013-04-18  \n",
       "32        POINT (-122.409445484488 37.789173205941)  12001069206374 2012-01-03  \n",
       "38       POINT (-122.401658145147 37.7718165835839)  12605298128150 2012-04-09  \n",
       "41       POINT (-122.408831121436 37.7503895174041)  13104501207023 2013-12-12  \n",
       "...                                             ...             ...        ...  \n",
       "2215009  POINT (-122.411271940537 37.7760329501244)  10027852504136 2010-03-24  \n",
       "2215010  POINT (-122.414263444238 37.8031918743285)  13069312528100 2013-08-20  \n",
       "2215012  POINT (-122.472757303533 37.7288520705314)  11033893705081 2011-04-26  \n",
       "2215017  POINT (-122.408595110869 37.7837069301545)  10040368115041 2010-05-02  \n",
       "2215020   POINT (-122.419698979616 37.752951196703)  13035579507025 2013-04-30  \n",
       "\n",
       "[699235 rows x 14 columns]"
      ]
     },
     "execution_count": 3,
     "metadata": {},
     "output_type": "execute_result"
    }
   ],
   "source": [
    "# for part 3.All part uses data for the period 2010-2018 (remember to filter your data)\n",
    "\n",
    "crime_data['Date1'] = pd.to_datetime(crime_data['Date'])  \n",
    "crime_data2= crime_data[(crime_data.Date1.dt.year >= 2010) & (crime_data.Date1.dt.year <= 2018)]\n",
    "crime_data1= crime_data2[(crime_data2.Category.isin(['WEAPON LAWS', 'PROSTITUTION', 'DRIVING UNDER THE INFLUENCE', 'ROBBERY', 'BURGLARY', 'ASSAULT', 'DRUNKENNESS', 'DRUG/NARCOTIC', 'TRESPASS', 'LARCENY/THEFT', 'VANDALISM', 'VEHICLE THEFT', 'STOLEN PROPERTY', 'DISORDERLY CONDUCT']))] \n",
    "\n",
    "crime_data1"
   ]
  },
  {
   "cell_type": "markdown",
   "metadata": {},
   "source": [
    "# Part 1 A: Questions to text and lectures."
   ]
  },
  {
   "cell_type": "markdown",
   "metadata": {},
   "source": [
    "- **The defintion of a narrative**<br>\n",
    "The Oxford English Dictionary defines narrative as “an account of a series of events, facts, etc.,given in order and with the establishing of connections between them. Central to this definition is the notion of a chain of causally related events. "
   ]
  },
  {
   "cell_type": "markdown",
   "metadata": {},
   "source": [
    "- **What is your favorite visualization among the examples in section 3? Explain why in a few words.**<br>\n",
    "My favorite is the first one, \"Steroids or Not, the Pursuit is On\".After going through the entire article we could know its narrative visualization type is a combination of partitioned poster and part flow chart, presenting multiple images simultaneously while using flow chart tactics to suggest a path to the viewer. <br>Compared with others, more elements are integrated in one page connected in a clear and easy-followed path thanks to good use of visual highlighting (color, size, boldness) and connecting elements such as arrows and shaded trails. <br>Another reason is that the hierarchy of this one is clear. By using big size for the upper left part than the upper right part, we could easily distinguish the major part. And the bottom plots devoid of color are given minimum visual priority."
   ]
  },
  {
   "cell_type": "markdown",
   "metadata": {},
   "source": [
    "- **What's the point of Figure 7?**<br>\n",
    "The author introduces that the design space contains three divisions of features: (1) genre, (2) visual narrative tactics, and (3) narrative structure tactics by analyzing 58 cases.<br>\n",
    "The author wants to depict unique patterns for narrative visualization, distinguishing itself from other forms visual storytelling, which could allow us to further organize the design features into increasingly coherent categories, such as genre types for narrative visualizations and different methods of integrating visualizations with accompanying text."
   ]
  },
  {
   "cell_type": "markdown",
   "metadata": {},
   "source": [
    "- **Use Figure 7 to find the most common design choice within each category for the Visual narrative and Narrative structure**<br>\n",
    "Visual narrative: Consistent Visual Platform for Visual Structuring, Feature Distinction for Highlighting, Object Continuity for Transition Guidance.<br>\n",
    "Narrative structure:User Directed Path for Ordering, Filtering/Selection/Search for Interactivity, Captions/Headlines for Messaging.\n",
    "\n"
   ]
  },
  {
   "cell_type": "markdown",
   "metadata": {},
   "source": [
    "- **Check out Figure 8 and section 4.3. What is your favorite genre of narrative visualization? Why? What is your least favorite genre? Why?**<br>\n",
    "My favorite one is Annotated Chart, which is one of the most common ones and I would say the most basic one. An annotation is a necessary part of every chart, it can be used to either give a general description or emphasize key observations from the data. Annotations are helpful to enrich a narrative. Compared with other genres, for examples it is less complex in terms of the layouts of different objectives than poster and flow chart, it is more interactive than magazine style.<br>\n",
    "My least favorite genre of narrative visualization is Comic Strip. Comic strip tends to follow a strict linear path. If all pictures are in uniform style in color, size and caption, etc., it's fine to give display a narrative visualization, but if not, viewers are liable to lose the path to follow the story-telling. Usually we think the more important the part is, the bigger picture it should be shown in. Therefore when using comic strip, we should consider more about how to balance the layout of the whole page and emphasis of the story itself.<br>\n",
    "\n"
   ]
  },
  {
   "cell_type": "markdown",
   "metadata": {},
   "source": [
    "## Questions to talk on explanatory data visualization"
   ]
  },
  {
   "cell_type": "markdown",
   "metadata": {},
   "source": [
    "- **What are the three key elements to keep in mind when you design an explanatory visualization?**<br>\n",
    "    To keep in mind what it is you want to communicate, 2. Allow users to investigate data and 3. Who are you trying communcating with through your visualization\n",
    "\n",
    "- **In the video I talk about (1) overview first, (2) zoom and filter, (3) details on demand.**\n",
    "    - **Go online and find a visualization that follows these principles (don't use one from the video).**<br>\n",
    "    - **Explain how it does achieves (1)-(3). It might be useful to use screenshots to illustrate your explanation.**<br>\n",
    "\n",
    "\n",
    "- **Explain in your own words: How is explanatory data analysis different from exploratory data analysis?**<br>\n"
   ]
  },
  {
   "cell_type": "markdown",
   "metadata": {},
   "source": [
    "# Part 2: Random forest and weather"
   ]
  },
  {
   "cell_type": "markdown",
   "metadata": {},
   "source": [
    "## Part 2A: Random forest binary classification"
   ]
  },
  {
   "cell_type": "markdown",
   "metadata": {},
   "source": [
    "The two types of crimes we will be focusing on here is *fraud* and *theft*."
   ]
  },
  {
   "cell_type": "code",
   "execution_count": null,
   "metadata": {},
   "outputs": [],
   "source": [
    "fraud = crime_data[crime_data.Category=='FRAUD']\n",
    "theft = crime_data[crime_data.Category=='LARCENY/THEFT']\n",
    "print(\"Number of fraud crimes: {}\".format(len(fraud)))\n",
    "print(\"Number of theft crimes: {}\".format(len(theft)))"
   ]
  },
  {
   "cell_type": "markdown",
   "metadata": {},
   "source": [
    "Because there is such a large different in the number of occurences of the two crime types, we will start by balancing the data set. This is here done by downsampling the number of theft crimes.<br>\n",
    "The following code is based on the example provided here: https://elitedatascience.com/imbalanced-classes"
   ]
  },
  {
   "cell_type": "code",
   "execution_count": null,
   "metadata": {},
   "outputs": [],
   "source": [
    "from sklearn.utils import resample"
   ]
  },
  {
   "cell_type": "code",
   "execution_count": null,
   "metadata": {},
   "outputs": [],
   "source": [
    "theft= resample(theft,replace=False,n_samples=len(fraud),random_state=123)\n",
    "crime_data3 = pd.concat([theft, fraud])"
   ]
  },
  {
   "cell_type": "markdown",
   "metadata": {},
   "source": [
    "The next step is to selct the desired features.The first features focus on the \"where\", where the following features will be included.<br>\n",
    "- **police district**: This will be represented by using a one-hot encoding of *PdDistrict*, as there exist no hiracical relationship between different districts.\n",
    "- **X**: the lattitude of the location of the crime. No transformation is applied.\n",
    "- **Y**: The longitude of the location of the crime. No transformation is applied."
   ]
  },
  {
   "cell_type": "code",
   "execution_count": null,
   "metadata": {},
   "outputs": [],
   "source": [
    "crime_data3=crime_data3.drop(['IncidntNum','Descript','Resolution','Address'],axis=1);"
   ]
  },
  {
   "cell_type": "code",
   "execution_count": null,
   "metadata": {},
   "outputs": [],
   "source": [
    "crime_data3=crime_data3.join(pd.get_dummies(crime_data3.PdDistrict))\n",
    "crime_data3=crime_data3.drop(['PdDistrict','PdId','Location'],axis=1)"
   ]
  },
  {
   "cell_type": "markdown",
   "metadata": {},
   "source": [
    "\n",
    "The second round of features focus on the \"when\", where the following features will be included.<br>\n",
    "- **Month**: This is obtained from *Date* attribute.\n",
    "- **Hour of the week**: This is obtained by combining the information from the *Time* and *Weekday* attributes of the original data set."
   ]
  },
  {
   "cell_type": "code",
   "execution_count": null,
   "metadata": {},
   "outputs": [],
   "source": [
    "# adding month\n",
    "crime_data3['Month']=pd.DatetimeIndex(crime_data3.Date1).month\n",
    "crime_data3=crime_data3.drop(['Date'],axis=1)"
   ]
  },
  {
   "cell_type": "code",
   "execution_count": null,
   "metadata": {},
   "outputs": [],
   "source": [
    "# transform day of week to integer values where the order of days correspond to the order of indexes.\n",
    "days = ['Monday', 'Tuesday', 'Wednesday', 'Thursday', 'Friday', 'Saturday','Sunday']\n",
    "sorterIndex = dict(zip(days,range(len(days))))\n",
    "crime_data3['DayOfWeek'] = crime_data3['DayOfWeek'].map(sorterIndex)+1\n",
    "crime_data3['hourOfTheWeek'] = pd.to_datetime(crime_data3.Time).dt.hour+1 +24*crime_data3['DayOfWeek']\n",
    "crime_data3=crime_data3.drop(['DayOfWeek'],axis=1)"
   ]
  },
  {
   "cell_type": "markdown",
   "metadata": {},
   "source": [
    "The data set is now devided into a test and training set. The split is made using *train_test_split* from sklean where the data is set to be split so that the two classes will be distributed equally in both the train and test set."
   ]
  },
  {
   "cell_type": "code",
   "execution_count": null,
   "metadata": {},
   "outputs": [],
   "source": [
    "from sklearn.model_selection import train_test_split\n",
    "\n",
    "X_train, X_test, y_train, y_test = train_test_split(crime_data3, crime_data3['Category'], test_size=0.3, random_state=0,stratify=crime_data3['Category'])"
   ]
  },
  {
   "cell_type": "code",
   "execution_count": null,
   "metadata": {},
   "outputs": [],
   "source": [
    "print(\"Number of training samples: {}\".format(len(X_train)))\n",
    "print(\"Number of training samples: {}\".format(len(X_test)))"
   ]
  },
  {
   "cell_type": "markdown",
   "metadata": {},
   "source": [
    "We are now ready to build the random classifier it self.<br>\n",
    "The classifier is trained without cross-validation, as it is expected that the size of the data set is large enough that part of the data can be completely taken out as test data. The max_depth of the created trees are set to 25 to limit the trees in becomming to overfitted to the training data. However the metod itself should help prevent a large degree of overfitting."
   ]
  },
  {
   "cell_type": "code",
   "execution_count": null,
   "metadata": {},
   "outputs": [],
   "source": [
    "from sklearn.ensemble import RandomForestClassifier"
   ]
  },
  {
   "cell_type": "code",
   "execution_count": null,
   "metadata": {},
   "outputs": [],
   "source": [
    "RFClassifier = RandomForestClassifier(random_state=3,criterion=\"entropy\",max_depth=25)\n",
    "RFClassifier=RFClassifier.fit(X_train.drop([\"Date1\",\"Time\",\"Category\"],axis=1),y_train) \n",
    "# The date object it self is not used in the classefier but is preserved so it can be merged with the weather data.\n",
    "print(\"accuracy: {:.2f}%\".format(RFClassifier.score(X_test.drop([\"Date1\",\"Time\",\"Category\"],axis=1), y_test)*100))"
   ]
  },
  {
   "cell_type": "markdown",
   "metadata": {},
   "source": [
    "Based on the on the accuracy we can see that the randomforest-classifier does perform better than the baseline 50% describing random guessing. However it is also clear that it is not a very precis classifier, this could indicate that two crime types don't have very distinct spatio-temporal features."
   ]
  },
  {
   "cell_type": "markdown",
   "metadata": {},
   "source": [
    "## Part 2B: Info from weather features"
   ]
  },
  {
   "cell_type": "markdown",
   "metadata": {},
   "source": [
    "We start by downloading the data."
   ]
  },
  {
   "cell_type": "code",
   "execution_count": null,
   "metadata": {},
   "outputs": [],
   "source": [
    "import requests\n",
    "file=requests.get('https://raw.githubusercontent.com/suneman/socialdataanalysis2020/master/files/Data_files/weather_data.csv')\n",
    "open('weather_data.csv', 'wb').write(file.content)\n",
    "weather_data=pd.read_csv(\"weather_data.csv\")"
   ]
  },
  {
   "cell_type": "markdown",
   "metadata": {},
   "source": [
    "The weather data contains the following features."
   ]
  },
  {
   "cell_type": "code",
   "execution_count": null,
   "metadata": {},
   "outputs": [],
   "source": [
    "weather_data.columns"
   ]
  },
  {
   "cell_type": "markdown",
   "metadata": {},
   "source": [
    "- **date:** The date information will be used to add the data to the correct crime observations. However any information concerning the time of the crime have already been included in the features selected from the crime data set.\n",
    "- **temperature:** The temperature information will be keept, and since it is already given as decimal numbers no transformation will be applied.\n",
    "- **humidity:** The humidity will also be included, as it might be an indication of how comfortable it is to be outside. No transformation will be apllied as it is listed as decimal numbers.  \n",
    "- **weather:** The weather feature describe the overall weather and is therefor an essential feature. However the feature is categorical and will therefore be one-hot encoded.\n",
    "- **wind_speed:** The wind speed will be included, without any form of transformation.  \n",
    "- **wind_direction:** The wind speed direction will not be included as it does not seem likely to be connected to what type of crime that will be happening.\n",
    "- **pressure:** The pressure is not expected to influence human behaviour and is therefore not included."
   ]
  },
  {
   "cell_type": "code",
   "execution_count": null,
   "metadata": {},
   "outputs": [],
   "source": [
    "# transforming weather feature\n",
    "weather_data=weather_data.join(pd.get_dummies(weather_data.weather))\n",
    "weather_data=weather_data.drop(['weather','wind_direction','pressure'],axis=1)"
   ]
  },
  {
   "cell_type": "markdown",
   "metadata": {},
   "source": [
    "The weather information is now added to the dataset."
   ]
  },
  {
   "cell_type": "code",
   "execution_count": null,
   "metadata": {},
   "outputs": [],
   "source": [
    "#transformation so date and time information format match in both data frames.\n",
    "weather_data['date']=pd.to_datetime(weather_data['date'])\n",
    "weather_data['hour']=weather_data['date'].dt.hour\n",
    "weather_data['date']=weather_data['date'].dt.date\n",
    "X_test['Time']=pd.to_datetime(X_test.Time).dt.hour\n",
    "X_test['Date1']=pd.to_datetime(X_test.Date1).dt.date\n",
    "X_train['Time']=pd.to_datetime(X_train.Time).dt.hour\n",
    "X_train['Date1']=pd.to_datetime(X_train.Date1).dt.date\n",
    "\n",
    "#mergeing data\n",
    "X_test=X_test.merge(weather_data, how='inner', left_on=[\"Date1\", \"Time\"], right_on=[\"date\",\"hour\"])\n",
    "y_test=X_test.Category\n",
    "X_test=X_test.drop(['Time','hour','date','Date1','Category'],axis=1)\n",
    "X_train=X_train.merge(weather_data, how='inner', left_on=[\"Date1\", \"Time\"], right_on=[\"date\",\"hour\"])\n",
    "y_train=X_train.Category\n",
    "X_train=X_train.drop(['Time','hour','date','Date1','Category'],axis=1);"
   ]
  },
  {
   "cell_type": "markdown",
   "metadata": {},
   "source": [
    "We will now just check the size of the training and test set, after the weather information have been added."
   ]
  },
  {
   "cell_type": "code",
   "execution_count": null,
   "metadata": {},
   "outputs": [],
   "source": [
    "print(\"Number of training samples: {}\".format(len(X_train)))\n",
    "print(\"Number of test samples {}\".format(len(X_test)))"
   ]
  },
  {
   "cell_type": "markdown",
   "metadata": {},
   "source": [
    "We are now ready to train our random forrest classifier with the additional weather features."
   ]
  },
  {
   "cell_type": "code",
   "execution_count": null,
   "metadata": {
    "scrolled": true
   },
   "outputs": [],
   "source": [
    "WeatherRFClassifier = RandomForestClassifier(random_state=3,criterion=\"entropy\",max_depth=25)\n",
    "WeatherRFClassifier=WeatherRFClassifier.fit(X_train,y_train) \n",
    "# The date object it self is not used in the classefier but is preserved so it can be merged with the weather data.\n",
    "print(\"accuracy: {:.2f}%\".format(WeatherRFClassifier.score(X_test, y_test)*100))"
   ]
  },
  {
   "cell_type": "markdown",
   "metadata": {},
   "source": [
    "We can see that the performance was only minimally improved by introducing the weather data, with the previous accuracy being 60.13%.<br> \n",
    "What this only very small performance increase indicate is that the weather does not affect the occurences of *theft* and *fraud* in very different ways, and it the information does therefor not appear paticularly usefuel when it comes to predicting or classifing crime types. However it is still possible that weather information could influence the overall crime activity, and therefore might be use for predicting number of expected crimes.<br>"
   ]
  },
  {
   "cell_type": "markdown",
   "metadata": {},
   "source": [
    "# Part 3: Data visualization"
   ]
  },
  {
   "cell_type": "code",
   "execution_count": null,
   "metadata": {},
   "outputs": [],
   "source": [
    "crime_data1['New_Time'] = pd.to_datetime(crime_data1['Time']).dt.hour\n",
    "crime_focus_count_hour = crime_data1.groupby(['New_Time','Category'])['IncidntNum'].count()\n",
    "crime_focus_count_hour"
   ]
  },
  {
   "cell_type": "code",
   "execution_count": null,
   "metadata": {},
   "outputs": [],
   "source": [
    "new_df = crime_focus_count_hour.unstack() \n",
    "cols = list(new_df.columns) \n",
    "new_df[cols] = new_df[cols].div(new_df[cols].sum(axis=1), axis=0) \n",
    "new_df   ## prepare data to hour distributed dataframe"
   ]
  },
  {
   "cell_type": "code",
   "execution_count": null,
   "metadata": {},
   "outputs": [],
   "source": [
    "from bokeh.io import output_notebook, show\n",
    "from bokeh.models import ColumnDataSource,FactorRange\n",
    "from bokeh.plotting import figure\n",
    "from bokeh.palettes import viridis\n",
    "from bokeh.models import Legend\n",
    "output_notebook()"
   ]
  },
  {
   "cell_type": "code",
   "execution_count": null,
   "metadata": {},
   "outputs": [],
   "source": [
    "src = ColumnDataSource(new_df)\n",
    "src"
   ]
  },
  {
   "cell_type": "code",
   "execution_count": null,
   "metadata": {},
   "outputs": [],
   "source": [
    "\n",
    "p = figure(\n",
    "            title='crime distribution',\n",
    "            x_range=FactorRange(factors = [\"0\", \"1\", \"2\", \"3\", \"4\", \"5\", \"6\", \"7\", \"8\", \"9\", \"10\", \"11\", \"12\", \"13\", \"14\", \"15\", \"16\", \"17\", \"18\", \"19\", \"20\", \"21\", \"22\", \"23\"]),\n",
    "            plot_width=1000,plot_height=500,\n",
    "            y_axis_label=\"count per hour/total counts\",\n",
    "            x_axis_label=\"hours\",\n",
    "            tools=\"pan,wheel_zoom,box_select,reset,save\"\n",
    "        )\n"
   ]
  },
  {
   "cell_type": "code",
   "execution_count": null,
   "metadata": {},
   "outputs": [],
   "source": [
    "bar ={}\n",
    "items = []\n",
    "focuscrimes = set(['WEAPON LAWS', 'PROSTITUTION', 'DRIVING UNDER THE INFLUENCE', 'ROBBERY', 'BURGLARY', 'ASSAULT', 'DRUNKENNESS', 'DRUG/NARCOTIC', 'TRESPASS', 'LARCENY/THEFT', 'VANDALISM', 'VEHICLE THEFT', 'STOLEN PROPERTY', 'DISORDERLY CONDUCT'])\n",
    "bar_colors=viridis(len(focuscrimes))\n",
    "for indx,i in enumerate(focuscrimes):\n",
    "         bar[i] = p.vbar(x='New_Time', top=i, source=src,width=0.5, color = bar_colors[indx] , muted_alpha = 0.6, alpha = 0.8,muted = False) \n",
    "         items.append((i, [bar[i]]))\n",
    "         legend = Legend(items=items, location=(0, 0))  \n",
    "\n",
    "p.add_layout(legend, 'right')\n",
    "show(p)       "
   ]
  },
  {
   "cell_type": "markdown",
   "metadata": {},
   "source": [
    "### Explanation of code"
   ]
  },
  {
   "cell_type": "markdown",
   "metadata": {},
   "source": [
    "The goal here is to make an interactive visualization of our chosen crime sub-dataset from 2010 to 2018.We normalized our data by each crime counts per hour divivded by their total counts. We simply groupby the dataset by the hours and their categories and unstack it. \n",
    "The the code below perform the normalization part, which could be found [here](https://stackoverflow.com/questions/42006346/pandas-convert-columns-to-percentages-of-the-totals)\n",
    "```python\n",
    "new_df[cols] = new_df[cols].div(new_df[cols].sum(axis=1), axis=0) \n",
    "```\n",
    "Afterward we using bokeh package to make the plot.We create an empty figure and define the tools by bokeh.plotting.figure. Here the x-range is our x-axis from 0'o clock to 23'o clock.\n",
    "Finally,we filling the figure p.vbar\n",
    "```python\n",
    "bar_colors= bokeh.palettes.viridis(len(focuscrimes))\n",
    "color = bar_colors[indx]\n",
    "# it will set to each crime type perpectively.\n",
    "```\n",
    "By following the steps from part 2 of week 8,we also fix the positon of legends."
   ]
  }
 ],
 "metadata": {
  "kernelspec": {
   "display_name": "Python 3",
   "language": "python",
   "name": "python3"
  },
  "language_info": {
   "codemirror_mode": {
    "name": "ipython",
    "version": 3
   },
   "file_extension": ".py",
   "mimetype": "text/x-python",
   "name": "python",
   "nbconvert_exporter": "python",
   "pygments_lexer": "ipython3",
   "version": "3.7.4"
  }
 },
 "nbformat": 4,
 "nbformat_minor": 4
}
