{
 "cells": [
  {
   "cell_type": "code",
   "execution_count": 1,
   "metadata": {},
   "outputs": [],
   "source": [
    "from scipy import stats\n",
    "import pandas as pd\n",
    "import numpy as np\n",
    "import matplotlib.pyplot as plt\n",
    "import seaborn as sns\n",
    "import requests\n",
    "%matplotlib inline"
   ]
  },
  {
   "cell_type": "markdown",
   "metadata": {},
   "source": [
    "### data prep "
   ]
  },
  {
   "cell_type": "code",
   "execution_count": 2,
   "metadata": {},
   "outputs": [],
   "source": [
    "crime_data=pd.read_csv(\"Police_Department_Incident_Reports__Historical_2003_to_May_2018.csv\")"
   ]
  },
  {
   "cell_type": "code",
   "execution_count": 3,
   "metadata": {},
   "outputs": [
    {
     "data": {
      "text/html": [
       "<div>\n",
       "<style scoped>\n",
       "    .dataframe tbody tr th:only-of-type {\n",
       "        vertical-align: middle;\n",
       "    }\n",
       "\n",
       "    .dataframe tbody tr th {\n",
       "        vertical-align: top;\n",
       "    }\n",
       "\n",
       "    .dataframe thead th {\n",
       "        text-align: right;\n",
       "    }\n",
       "</style>\n",
       "<table border=\"1\" class=\"dataframe\">\n",
       "  <thead>\n",
       "    <tr style=\"text-align: right;\">\n",
       "      <th></th>\n",
       "      <th>IncidntNum</th>\n",
       "      <th>Category</th>\n",
       "      <th>Descript</th>\n",
       "      <th>DayOfWeek</th>\n",
       "      <th>Date</th>\n",
       "      <th>Time</th>\n",
       "      <th>PdDistrict</th>\n",
       "      <th>Resolution</th>\n",
       "      <th>Address</th>\n",
       "      <th>X</th>\n",
       "      <th>Y</th>\n",
       "      <th>Location</th>\n",
       "      <th>PdId</th>\n",
       "      <th>Date1</th>\n",
       "    </tr>\n",
       "  </thead>\n",
       "  <tbody>\n",
       "    <tr>\n",
       "      <td>1</td>\n",
       "      <td>150045675</td>\n",
       "      <td>ASSAULT</td>\n",
       "      <td>BATTERY</td>\n",
       "      <td>Thursday</td>\n",
       "      <td>01/15/2015</td>\n",
       "      <td>17:00</td>\n",
       "      <td>TARAVAL</td>\n",
       "      <td>NONE</td>\n",
       "      <td>1800 Block of VICENTE ST</td>\n",
       "      <td>-122.485604</td>\n",
       "      <td>37.738821</td>\n",
       "      <td>POINT (-122.48560378101 37.7388214326705)</td>\n",
       "      <td>15004567504134</td>\n",
       "      <td>2015-01-15</td>\n",
       "    </tr>\n",
       "    <tr>\n",
       "      <td>3</td>\n",
       "      <td>150383259</td>\n",
       "      <td>ASSAULT</td>\n",
       "      <td>BATTERY</td>\n",
       "      <td>Saturday</td>\n",
       "      <td>05/02/2015</td>\n",
       "      <td>23:10</td>\n",
       "      <td>BAYVIEW</td>\n",
       "      <td>ARREST, BOOKED</td>\n",
       "      <td>2400 Block of PHELPS ST</td>\n",
       "      <td>-122.400131</td>\n",
       "      <td>37.730093</td>\n",
       "      <td>POINT (-122.400130573297 37.7300925390327)</td>\n",
       "      <td>15038325904134</td>\n",
       "      <td>2015-05-02</td>\n",
       "    </tr>\n",
       "    <tr>\n",
       "      <td>9</td>\n",
       "      <td>111027676</td>\n",
       "      <td>ASSAULT</td>\n",
       "      <td>BATTERY</td>\n",
       "      <td>Saturday</td>\n",
       "      <td>12/24/2011</td>\n",
       "      <td>07:00</td>\n",
       "      <td>SOUTHERN</td>\n",
       "      <td>NONE</td>\n",
       "      <td>0 Block of DORE ST</td>\n",
       "      <td>-122.412933</td>\n",
       "      <td>37.773927</td>\n",
       "      <td>POINT (-122.412933062384 37.7739274524819)</td>\n",
       "      <td>11102767604134</td>\n",
       "      <td>2011-12-24</td>\n",
       "    </tr>\n",
       "    <tr>\n",
       "      <td>18</td>\n",
       "      <td>120444392</td>\n",
       "      <td>ASSAULT</td>\n",
       "      <td>BATTERY</td>\n",
       "      <td>Tuesday</td>\n",
       "      <td>06/05/2012</td>\n",
       "      <td>11:47</td>\n",
       "      <td>RICHMOND</td>\n",
       "      <td>NONE</td>\n",
       "      <td>500 Block of ARGUELLO BL</td>\n",
       "      <td>-122.458725</td>\n",
       "      <td>37.780280</td>\n",
       "      <td>POINT (-122.458724812805 37.7802795296617)</td>\n",
       "      <td>12044439204134</td>\n",
       "      <td>2012-06-05</td>\n",
       "    </tr>\n",
       "    <tr>\n",
       "      <td>21</td>\n",
       "      <td>180210729</td>\n",
       "      <td>ASSAULT</td>\n",
       "      <td>BATTERY</td>\n",
       "      <td>Tuesday</td>\n",
       "      <td>03/20/2018</td>\n",
       "      <td>18:20</td>\n",
       "      <td>NORTHERN</td>\n",
       "      <td>NONE</td>\n",
       "      <td>POST ST / GOUGH ST</td>\n",
       "      <td>-122.424860</td>\n",
       "      <td>37.786196</td>\n",
       "      <td>POINT (-122.42485988902867 37.78619644725339)</td>\n",
       "      <td>18021072904134</td>\n",
       "      <td>2018-03-20</td>\n",
       "    </tr>\n",
       "    <tr>\n",
       "      <td>...</td>\n",
       "      <td>...</td>\n",
       "      <td>...</td>\n",
       "      <td>...</td>\n",
       "      <td>...</td>\n",
       "      <td>...</td>\n",
       "      <td>...</td>\n",
       "      <td>...</td>\n",
       "      <td>...</td>\n",
       "      <td>...</td>\n",
       "      <td>...</td>\n",
       "      <td>...</td>\n",
       "      <td>...</td>\n",
       "      <td>...</td>\n",
       "      <td>...</td>\n",
       "    </tr>\n",
       "    <tr>\n",
       "      <td>2215014</td>\n",
       "      <td>170126722</td>\n",
       "      <td>ASSAULT</td>\n",
       "      <td>BATTERY</td>\n",
       "      <td>Monday</td>\n",
       "      <td>02/13/2017</td>\n",
       "      <td>19:50</td>\n",
       "      <td>NORTHERN</td>\n",
       "      <td>NONE</td>\n",
       "      <td>MCALLISTER ST / FRANKLIN ST</td>\n",
       "      <td>-122.421893</td>\n",
       "      <td>37.779891</td>\n",
       "      <td>POINT (-122.4218931344669 37.77989123361396)</td>\n",
       "      <td>17012672204134</td>\n",
       "      <td>2017-02-13</td>\n",
       "    </tr>\n",
       "    <tr>\n",
       "      <td>2215015</td>\n",
       "      <td>160511161</td>\n",
       "      <td>LARCENY/THEFT</td>\n",
       "      <td>PETTY THEFT OF PROPERTY</td>\n",
       "      <td>Friday</td>\n",
       "      <td>06/24/2016</td>\n",
       "      <td>10:10</td>\n",
       "      <td>TARAVAL</td>\n",
       "      <td>NONE</td>\n",
       "      <td>500 Block of JUDAH ST</td>\n",
       "      <td>-122.467791</td>\n",
       "      <td>37.762008</td>\n",
       "      <td>POINT (-122.46779091121964 37.76200811098795)</td>\n",
       "      <td>16051116106372</td>\n",
       "      <td>2016-06-24</td>\n",
       "    </tr>\n",
       "    <tr>\n",
       "      <td>2215017</td>\n",
       "      <td>160442986</td>\n",
       "      <td>LARCENY/THEFT</td>\n",
       "      <td>GRAND THEFT FROM LOCKED AUTO</td>\n",
       "      <td>Monday</td>\n",
       "      <td>05/30/2016</td>\n",
       "      <td>19:10</td>\n",
       "      <td>CENTRAL</td>\n",
       "      <td>NONE</td>\n",
       "      <td>BAY ST / POWELL ST</td>\n",
       "      <td>-122.411953</td>\n",
       "      <td>37.805824</td>\n",
       "      <td>POINT (-122.41195308361146 37.80582429492737)</td>\n",
       "      <td>16044298606244</td>\n",
       "      <td>2016-05-30</td>\n",
       "    </tr>\n",
       "    <tr>\n",
       "      <td>2215018</td>\n",
       "      <td>166167891</td>\n",
       "      <td>LARCENY/THEFT</td>\n",
       "      <td>GRAND THEFT FROM LOCKED AUTO</td>\n",
       "      <td>Friday</td>\n",
       "      <td>07/22/2016</td>\n",
       "      <td>09:30</td>\n",
       "      <td>PARK</td>\n",
       "      <td>NONE</td>\n",
       "      <td>14TH ST / NOE ST</td>\n",
       "      <td>-122.433409</td>\n",
       "      <td>37.767460</td>\n",
       "      <td>POINT (-122.43340929426132 37.767459890623755)</td>\n",
       "      <td>16616789106244</td>\n",
       "      <td>2016-07-22</td>\n",
       "    </tr>\n",
       "    <tr>\n",
       "      <td>2215021</td>\n",
       "      <td>170285083</td>\n",
       "      <td>VEHICLE THEFT</td>\n",
       "      <td>STOLEN TRUCK</td>\n",
       "      <td>Thursday</td>\n",
       "      <td>04/06/2017</td>\n",
       "      <td>23:30</td>\n",
       "      <td>PARK</td>\n",
       "      <td>NONE</td>\n",
       "      <td>800 Block of HAIGHT ST</td>\n",
       "      <td>-122.436214</td>\n",
       "      <td>37.771317</td>\n",
       "      <td>POINT (-122.43621442698411 37.77131718410027)</td>\n",
       "      <td>17028508307025</td>\n",
       "      <td>2017-04-06</td>\n",
       "    </tr>\n",
       "  </tbody>\n",
       "</table>\n",
       "<p>699235 rows × 14 columns</p>\n",
       "</div>"
      ],
      "text/plain": [
       "         IncidntNum       Category                      Descript DayOfWeek  \\\n",
       "1         150045675        ASSAULT                       BATTERY  Thursday   \n",
       "3         150383259        ASSAULT                       BATTERY  Saturday   \n",
       "9         111027676        ASSAULT                       BATTERY  Saturday   \n",
       "18        120444392        ASSAULT                       BATTERY   Tuesday   \n",
       "21        180210729        ASSAULT                       BATTERY   Tuesday   \n",
       "...             ...            ...                           ...       ...   \n",
       "2215014   170126722        ASSAULT                       BATTERY    Monday   \n",
       "2215015   160511161  LARCENY/THEFT       PETTY THEFT OF PROPERTY    Friday   \n",
       "2215017   160442986  LARCENY/THEFT  GRAND THEFT FROM LOCKED AUTO    Monday   \n",
       "2215018   166167891  LARCENY/THEFT  GRAND THEFT FROM LOCKED AUTO    Friday   \n",
       "2215021   170285083  VEHICLE THEFT                  STOLEN TRUCK  Thursday   \n",
       "\n",
       "               Date   Time PdDistrict      Resolution  \\\n",
       "1        01/15/2015  17:00    TARAVAL            NONE   \n",
       "3        05/02/2015  23:10    BAYVIEW  ARREST, BOOKED   \n",
       "9        12/24/2011  07:00   SOUTHERN            NONE   \n",
       "18       06/05/2012  11:47   RICHMOND            NONE   \n",
       "21       03/20/2018  18:20   NORTHERN            NONE   \n",
       "...             ...    ...        ...             ...   \n",
       "2215014  02/13/2017  19:50   NORTHERN            NONE   \n",
       "2215015  06/24/2016  10:10    TARAVAL            NONE   \n",
       "2215017  05/30/2016  19:10    CENTRAL            NONE   \n",
       "2215018  07/22/2016  09:30       PARK            NONE   \n",
       "2215021  04/06/2017  23:30       PARK            NONE   \n",
       "\n",
       "                             Address           X          Y  \\\n",
       "1           1800 Block of VICENTE ST -122.485604  37.738821   \n",
       "3            2400 Block of PHELPS ST -122.400131  37.730093   \n",
       "9                 0 Block of DORE ST -122.412933  37.773927   \n",
       "18          500 Block of ARGUELLO BL -122.458725  37.780280   \n",
       "21                POST ST / GOUGH ST -122.424860  37.786196   \n",
       "...                              ...         ...        ...   \n",
       "2215014  MCALLISTER ST / FRANKLIN ST -122.421893  37.779891   \n",
       "2215015        500 Block of JUDAH ST -122.467791  37.762008   \n",
       "2215017           BAY ST / POWELL ST -122.411953  37.805824   \n",
       "2215018             14TH ST / NOE ST -122.433409  37.767460   \n",
       "2215021       800 Block of HAIGHT ST -122.436214  37.771317   \n",
       "\n",
       "                                               Location            PdId  \\\n",
       "1             POINT (-122.48560378101 37.7388214326705)  15004567504134   \n",
       "3            POINT (-122.400130573297 37.7300925390327)  15038325904134   \n",
       "9            POINT (-122.412933062384 37.7739274524819)  11102767604134   \n",
       "18           POINT (-122.458724812805 37.7802795296617)  12044439204134   \n",
       "21        POINT (-122.42485988902867 37.78619644725339)  18021072904134   \n",
       "...                                                 ...             ...   \n",
       "2215014    POINT (-122.4218931344669 37.77989123361396)  17012672204134   \n",
       "2215015   POINT (-122.46779091121964 37.76200811098795)  16051116106372   \n",
       "2215017   POINT (-122.41195308361146 37.80582429492737)  16044298606244   \n",
       "2215018  POINT (-122.43340929426132 37.767459890623755)  16616789106244   \n",
       "2215021   POINT (-122.43621442698411 37.77131718410027)  17028508307025   \n",
       "\n",
       "             Date1  \n",
       "1       2015-01-15  \n",
       "3       2015-05-02  \n",
       "9       2011-12-24  \n",
       "18      2012-06-05  \n",
       "21      2018-03-20  \n",
       "...            ...  \n",
       "2215014 2017-02-13  \n",
       "2215015 2016-06-24  \n",
       "2215017 2016-05-30  \n",
       "2215018 2016-07-22  \n",
       "2215021 2017-04-06  \n",
       "\n",
       "[699235 rows x 14 columns]"
      ]
     },
     "execution_count": 3,
     "metadata": {},
     "output_type": "execute_result"
    }
   ],
   "source": [
    "# for part 3.All part uses data for the period 2010-2018 (remember to filter your data)\n",
    "\n",
    "crime_data['Date1'] = pd.to_datetime(crime_data['Date'])  \n",
    "crime_data2= crime_data[(crime_data.Date1.dt.year >= 2010) & (crime_data.Date1.dt.year <= 2018)]\n",
    "crime_data1= crime_data2[(crime_data2.Category.isin(['WEAPON LAWS', 'PROSTITUTION', 'DRIVING UNDER THE INFLUENCE', 'ROBBERY', 'BURGLARY', 'ASSAULT', 'DRUNKENNESS', 'DRUG/NARCOTIC', 'TRESPASS', 'LARCENY/THEFT', 'VANDALISM', 'VEHICLE THEFT', 'STOLEN PROPERTY', 'DISORDERLY CONDUCT']))] \n",
    "\n",
    "crime_data1"
   ]
  },
  {
   "cell_type": "markdown",
   "metadata": {},
   "source": [
    "# Part 1: Questions to text and lectures."
   ]
  },
  {
   "cell_type": "code",
   "execution_count": null,
   "metadata": {},
   "outputs": [],
   "source": []
  },
  {
   "cell_type": "code",
   "execution_count": null,
   "metadata": {},
   "outputs": [],
   "source": []
  },
  {
   "cell_type": "markdown",
   "metadata": {},
   "source": [
    "# Part 2: Random forest and weather"
   ]
  },
  {
   "cell_type": "markdown",
   "metadata": {},
   "source": [
    "## Part 2A: Random forest binary classification"
   ]
  },
  {
   "cell_type": "markdown",
   "metadata": {},
   "source": [
    "The two types of crimes we will be focusing on here is *fraud* and *theft*."
   ]
  },
  {
   "cell_type": "code",
   "execution_count": 4,
   "metadata": {},
   "outputs": [
    {
     "name": "stdout",
     "output_type": "stream",
     "text": [
      "Number of fraud crimes: 41542\n",
      "Number of theft crimes: 480448\n"
     ]
    }
   ],
   "source": [
    "fraud = crime_data[crime_data.Category=='FRAUD']\n",
    "theft = crime_data[crime_data.Category=='LARCENY/THEFT']\n",
    "print(\"Number of fraud crimes: {}\".format(len(fraud)))\n",
    "print(\"Number of theft crimes: {}\".format(len(theft)))"
   ]
  },
  {
   "cell_type": "markdown",
   "metadata": {},
   "source": [
    "Because there is such a large different in the number of occurences of the two crime types, we will start by balancing the data set. This is here done by downsampling the number of theft crimes.<br>\n",
    "The following code is based on the example provided here: https://elitedatascience.com/imbalanced-classes"
   ]
  },
  {
   "cell_type": "code",
   "execution_count": 5,
   "metadata": {},
   "outputs": [],
   "source": [
    "from sklearn.utils import resample"
   ]
  },
  {
   "cell_type": "code",
   "execution_count": 6,
   "metadata": {},
   "outputs": [],
   "source": [
    "theft= resample(theft,replace=False,n_samples=len(fraud),random_state=123)\n",
    "crime_data3 = pd.concat([theft, fraud])"
   ]
  },
  {
   "cell_type": "markdown",
   "metadata": {},
   "source": [
    "The next step is to selct the desired features.The first features focus on the \"where\", where the following features will be included.<br>\n",
    "- **police district**: This will be represented by using a one-hot encoding of *PdDistrict*, as there exist no hiracical relationship between different districts.\n",
    "- **X**: the lattitude of the location of the crime. No transformation is applied.\n",
    "- **Y**: The longitude of the location of the crime. No transformation is applied."
   ]
  },
  {
   "cell_type": "code",
   "execution_count": 7,
   "metadata": {},
   "outputs": [],
   "source": [
    "crime_data3=crime_data3.drop(['IncidntNum','Descript','Resolution','Address'],axis=1);"
   ]
  },
  {
   "cell_type": "code",
   "execution_count": 8,
   "metadata": {},
   "outputs": [],
   "source": [
    "crime_data3=crime_data3.join(pd.get_dummies(crime_data3.PdDistrict))\n",
    "crime_data3=crime_data3.drop(['PdDistrict','PdId','Location'],axis=1)"
   ]
  },
  {
   "cell_type": "markdown",
   "metadata": {},
   "source": [
    "\n",
    "The second round of features focus on the \"when\", where the following features will be included.<br>\n",
    "- **Month**: This is obtained from *Date* attribute.\n",
    "- **Hour of the week**: This is obtained by combining the information from the *Time* and *Weekday* attributes of the original data set."
   ]
  },
  {
   "cell_type": "code",
   "execution_count": 9,
   "metadata": {},
   "outputs": [],
   "source": [
    "# adding month\n",
    "crime_data3['Month']=pd.DatetimeIndex(crime_data3.Date1).month\n",
    "crime_data3=crime_data3.drop(['Date'],axis=1)"
   ]
  },
  {
   "cell_type": "code",
   "execution_count": 10,
   "metadata": {},
   "outputs": [],
   "source": [
    "# transform day of week to integer values where the order of days correspond to the order of indexes.\n",
    "days = ['Monday', 'Tuesday', 'Wednesday', 'Thursday', 'Friday', 'Saturday','Sunday']\n",
    "sorterIndex = dict(zip(days,range(len(days))))\n",
    "crime_data3['DayOfWeek'] = crime_data3['DayOfWeek'].map(sorterIndex)+1\n",
    "crime_data3['hourOfTheWeek'] = pd.to_datetime(crime_data3.Time).dt.hour+1 +24*crime_data3['DayOfWeek']\n",
    "crime_data3=crime_data3.drop(['DayOfWeek'],axis=1)"
   ]
  },
  {
   "cell_type": "markdown",
   "metadata": {},
   "source": [
    "The data set is now devided into a test and training set. The split is made using *train_test_split* from sklean where the data is set to be split so that the two classes will be distributed equally in both the train and test set."
   ]
  },
  {
   "cell_type": "code",
   "execution_count": 11,
   "metadata": {},
   "outputs": [],
   "source": [
    "from sklearn.model_selection import train_test_split\n",
    "\n",
    "X_train, X_test, y_train, y_test = train_test_split(crime_data3, crime_data3['Category'], test_size=0.3, random_state=0,stratify=crime_data3['Category'])"
   ]
  },
  {
   "cell_type": "code",
   "execution_count": 12,
   "metadata": {},
   "outputs": [
    {
     "name": "stdout",
     "output_type": "stream",
     "text": [
      "Number of training samples: 37854\n",
      "Number of training samples: 24926\n"
     ]
    }
   ],
   "source": [
    "print(\"Number of training samples: {}\".format(len(X_train)))\n",
    "print(\"Number of training samples: {}\".format(len(X_test)))"
   ]
  },
  {
   "cell_type": "markdown",
   "metadata": {},
   "source": [
    "We are now ready to build the random classifier it self.<br>\n",
    "The classifier is trained without cross-validation, as it is expected that the size of the data set is large enough that part of the data can be completely taken out as test data. The max_depth of the created trees are set to 25 to limit the trees in becomming to overfitted to the training data. However the metod itself should help prevent a large degree of overfitting."
   ]
  },
  {
   "cell_type": "code",
   "execution_count": 13,
   "metadata": {},
   "outputs": [],
   "source": [
    "from sklearn.ensemble import RandomForestClassifier"
   ]
  },
  {
   "cell_type": "code",
   "execution_count": null,
   "metadata": {},
   "outputs": [],
   "source": [
    "RFClassifier = RandomForestClassifier(random_state=3,criterion=\"entropy\",max_depth=25)\n",
    "RFClassifier=RFClassifier.fit(X_train.drop([\"Date1\",\"Time\",\"Category\"],axis=1),y_train) \n",
    "# The date object it self is not used in the classefier but is preserved so it can be merged with the weather data.\n",
    "print(\"accuracy: {:.2f}%\".format(RFClassifier.score(X_test.drop([\"Date1\",\"Time\",\"Category\"],axis=1), y_test)*100))"
   ]
  },
  {
   "cell_type": "markdown",
   "metadata": {},
   "source": [
    "Based on the on the accuracy we can see that the randomforest-classifier does perform better than the baseline 50% describing random guessing. However it is also clear that it is not a very precis classifier, this could indicate that two crime types don't have very distinct spatio-temporal features."
   ]
  },
  {
   "cell_type": "markdown",
   "metadata": {},
   "source": [
    "## Part 2B: Info from weather features"
   ]
  },
  {
   "cell_type": "markdown",
   "metadata": {},
   "source": [
    "We start by downloading the data."
   ]
  },
  {
   "cell_type": "code",
   "execution_count": null,
   "metadata": {},
   "outputs": [],
   "source": [
    "import requests\n",
    "file=requests.get('https://raw.githubusercontent.com/suneman/socialdataanalysis2020/master/files/Data_files/weather_data.csv')\n",
    "open('weather_data.csv', 'wb').write(file.content)\n",
    "weather_data=pd.read_csv(\"weather_data.csv\")"
   ]
  },
  {
   "cell_type": "markdown",
   "metadata": {},
   "source": [
    "The weather data contains the following features."
   ]
  },
  {
   "cell_type": "code",
   "execution_count": null,
   "metadata": {},
   "outputs": [],
   "source": [
    "weather_data.columns"
   ]
  },
  {
   "cell_type": "markdown",
   "metadata": {},
   "source": [
    "- **date:** The date information will be used to add the data to the correct crime observations. However any information concerning the time of the crime have already been included in the features selected from the crime data set.\n",
    "- **temperature:** The temperature information will be keept, and since it is already given as decimal numbers no transformation will be applied.\n",
    "- **humidity:** The humidity will also be included, as it might be an indication of how comfortable it is to be outside. No transformation will be apllied as it is listed as decimal numbers.  \n",
    "- **weather:** The weather feature describe the overall weather and is therefor an essential feature. However the feature is categorical and will therefore be one-hot encoded.\n",
    "- **wind_speed:** The wind speed will be included, without any form of transformation.  \n",
    "- **wind_direction:** The wind speed direction will not be included as it does not seem likely to be connected to what type of crime that will be happening.\n",
    "- **pressure:** The pressure is not expected to influence human behaviour and is therefore not included."
   ]
  },
  {
   "cell_type": "code",
   "execution_count": null,
   "metadata": {},
   "outputs": [],
   "source": [
    "# transforming weather feature\n",
    "weather_data=weather_data.join(pd.get_dummies(weather_data.weather))\n",
    "weather_data=weather_data.drop(['weather','wind_direction','pressure'],axis=1)"
   ]
  },
  {
   "cell_type": "markdown",
   "metadata": {},
   "source": [
    "The weather information is now added to the dataset."
   ]
  },
  {
   "cell_type": "code",
   "execution_count": null,
   "metadata": {},
   "outputs": [],
   "source": [
    "#transformation so date and time information format match in both data frames.\n",
    "weather_data['date']=pd.to_datetime(weather_data['date'])\n",
    "weather_data['hour']=weather_data['date'].dt.hour\n",
    "weather_data['date']=weather_data['date'].dt.date\n",
    "X_test['Time']=pd.to_datetime(X_test.Time).dt.hour\n",
    "X_test['Date1']=pd.to_datetime(X_test.Date1).dt.date\n",
    "X_train['Time']=pd.to_datetime(X_train.Time).dt.hour\n",
    "X_train['Date1']=pd.to_datetime(X_train.Date1).dt.date\n",
    "\n",
    "#mergeing data\n",
    "X_test=X_test.merge(weather_data, how='inner', left_on=[\"Date1\", \"Time\"], right_on=[\"date\",\"hour\"])\n",
    "y_test=X_test.Category\n",
    "X_test=X_test.drop(['Time','hour','date','Date1','Category'],axis=1)\n",
    "X_train=X_train.merge(weather_data, how='inner', left_on=[\"Date1\", \"Time\"], right_on=[\"date\",\"hour\"])\n",
    "y_train=X_train.Category\n",
    "X_train=X_train.drop(['Time','hour','date','Date1','Category'],axis=1);"
   ]
  },
  {
   "cell_type": "markdown",
   "metadata": {},
   "source": [
    "We will now just check the size of the training and test set, after the weather information have been added."
   ]
  },
  {
   "cell_type": "code",
   "execution_count": null,
   "metadata": {},
   "outputs": [],
   "source": [
    "print(\"Number of training samples: {}\".format(len(X_train)))\n",
    "print(\"Number of test samples {}\".format(len(X_test)))"
   ]
  },
  {
   "cell_type": "markdown",
   "metadata": {},
   "source": [
    "We are now ready to train our random forrest classifier with the additional weather features."
   ]
  },
  {
   "cell_type": "code",
   "execution_count": null,
   "metadata": {
    "scrolled": true
   },
   "outputs": [],
   "source": [
    "WeatherRFClassifier = RandomForestClassifier(random_state=3,criterion=\"entropy\",max_depth=25)\n",
    "WeatherRFClassifier=WeatherRFClassifier.fit(X_train,y_train) \n",
    "# The date object it self is not used in the classefier but is preserved so it can be merged with the weather data.\n",
    "print(\"accuracy: {:.2f}%\".format(WeatherRFClassifier.score(X_test, y_test)*100))"
   ]
  },
  {
   "cell_type": "markdown",
   "metadata": {},
   "source": [
    "We can see that the performance was only minimally improved by introducing the weather data, with the previous accuracy being 60.13%.<br> \n",
    "What this only very small performance increase indicate is that the weather does not affect the occurences of *theft* and *fraud* in very different ways, and it the information does therefor not appear paticularly usefuel when it comes to predicting or classifing crime types. However it is still possible that weather information could influence the overall crime activity, and therefore might be use for predicting number of expected crimes.<br>"
   ]
  },
  {
   "cell_type": "markdown",
   "metadata": {},
   "source": [
    "# Part 3: Data visualization"
   ]
  },
  {
   "cell_type": "code",
   "execution_count": null,
   "metadata": {},
   "outputs": [],
   "source": [
    "crime_data1['New_Time'] = pd.to_datetime(crime_data1['Time']).dt.hour\n",
    "crime_focus_count_hour = crime_data1.groupby(['New_Time','Category'])['IncidntNum'].count()\n",
    "crime_focus_count_hour"
   ]
  },
  {
   "cell_type": "code",
   "execution_count": null,
   "metadata": {},
   "outputs": [],
   "source": [
    "new_df = crime_focus_count_hour.unstack() \n",
    "cols = list(new_df.columns) \n",
    "new_df[cols] = new_df[cols].div(new_df[cols].sum(axis=1), axis=0) \n",
    "new_df   ## prepare data to hour distributed dataframe"
   ]
  },
  {
   "cell_type": "code",
   "execution_count": null,
   "metadata": {},
   "outputs": [],
   "source": [
    "from bokeh.io import output_notebook, show\n",
    "from bokeh.models import ColumnDataSource,FactorRange\n",
    "from bokeh.plotting import figure\n",
    "from bokeh.palettes import viridis\n",
    "from bokeh.models import Legend\n",
    "output_notebook()"
   ]
  },
  {
   "cell_type": "code",
   "execution_count": null,
   "metadata": {},
   "outputs": [],
   "source": [
    "src = ColumnDataSource(new_df)\n",
    "src"
   ]
  },
  {
   "cell_type": "code",
   "execution_count": null,
   "metadata": {},
   "outputs": [],
   "source": [
    "\n",
    "p = figure(\n",
    "            title='crime distribution',\n",
    "            x_range=FactorRange(factors = [\"0\", \"1\", \"2\", \"3\", \"4\", \"5\", \"6\", \"7\", \"8\", \"9\", \"10\", \"11\", \"12\", \"13\", \"14\", \"15\", \"16\", \"17\", \"18\", \"19\", \"20\", \"21\", \"22\", \"23\"]),\n",
    "            plot_width=1000,plot_height=500,\n",
    "            y_axis_label=\"count per hour/total counts\",\n",
    "            x_axis_label=\"hours\",\n",
    "            tools=\"pan,wheel_zoom,box_select,reset,save\"\n",
    "        )\n"
   ]
  },
  {
   "cell_type": "code",
   "execution_count": null,
   "metadata": {},
   "outputs": [],
   "source": [
    "bar ={}\n",
    "items = []\n",
    "focuscrimes = set(['WEAPON LAWS', 'PROSTITUTION', 'DRIVING UNDER THE INFLUENCE', 'ROBBERY', 'BURGLARY', 'ASSAULT', 'DRUNKENNESS', 'DRUG/NARCOTIC', 'TRESPASS', 'LARCENY/THEFT', 'VANDALISM', 'VEHICLE THEFT', 'STOLEN PROPERTY', 'DISORDERLY CONDUCT'])\n",
    "bar_colors=viridis(len(focuscrimes))\n",
    "for indx,i in enumerate(focuscrimes):\n",
    "         bar[i] = p.vbar(x='New_Time', top=i, source=src,width=0.5, color = bar_colors[indx] , muted_alpha = 0.6, alpha = 0.8,muted = False) \n",
    "         items.append((i, [bar[i]]))\n",
    "         legend = Legend(items=items, location=(0, 0))  \n",
    "\n",
    "p.add_layout(legend, 'right')\n",
    "show(p)       "
   ]
  },
  {
   "cell_type": "markdown",
   "metadata": {},
   "source": [
    "### Explanation of code"
   ]
  },
  {
   "cell_type": "markdown",
   "metadata": {},
   "source": [
    "The goal here is to make an interactive visualization of our chosen crime sub-dataset from 2010 to 2018.We normalized our data by each crime counts per hour divivded by their total counts. We simply groupby the dataset by the hours and their categories and unstack it. \n",
    "The the code below perform the normalization part, which could be found [here](https://stackoverflow.com/questions/42006346/pandas-convert-columns-to-percentages-of-the-totals)\n",
    "```python\n",
    "new_df[cols] = new_df[cols].div(new_df[cols].sum(axis=1), axis=0) \n",
    "```\n",
    "Afterward we using bokeh package to make the plot.We create an empty figure and define the tools by bokeh.plotting.figure. Here the x-range is our x-axis from 0'o clock to 23'o clock.\n",
    "Finally,we filling the figure p.vbar\n",
    "```python\n",
    "bar_colors= bokeh.palettes.viridis(len(focuscrimes))\n",
    "color = bar_colors[indx]\n",
    "# it will set to each crime type perpectively.\n",
    "```\n",
    "By following the steps from part 2 of week 8,we also fix the positon of legends."
   ]
  }
 ],
 "metadata": {
  "kernelspec": {
   "display_name": "Python 3",
   "language": "python",
   "name": "python3"
  },
  "language_info": {
   "codemirror_mode": {
    "name": "ipython",
    "version": 3
   },
   "file_extension": ".py",
   "mimetype": "text/x-python",
   "name": "python",
   "nbconvert_exporter": "python",
   "pygments_lexer": "ipython3",
   "version": "3.6.5"
  }
 },
 "nbformat": 4,
 "nbformat_minor": 4
}
