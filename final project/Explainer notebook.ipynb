{
 "cells": [
  {
   "cell_type": "markdown",
   "metadata": {},
   "source": [
    "# Motivation"
   ]
  },
  {
   "cell_type": "markdown",
   "metadata": {},
   "source": [
    "- What was your goal for the end user's experience?<br>\n",
    "The overall goal is to allow the user to get a sense of how COVID-19 has efected the economic situation. And to highlight that that the effect is not even within different industries. To do so we work with a number of different data sets, focusing on three different areas COVID-19, stock indexes around the world and stock data for a selected number of companies."
   ]
  },
  {
   "cell_type": "markdown",
   "metadata": {},
   "source": [
    "## COVID-19 data\n",
    "The data set we have chosen to work with is based on the official data collected by Johns Hopkins conserning COVID-19, and has been obtained from the following source, https://www.kaggle.com/gpreda/coronavirus-2019ncov (18.4.2020). The data set collects the daily measurements of the virus and has been through basic preprocessing to unify country names."
   ]
  },
  {
   "cell_type": "markdown",
   "metadata": {},
   "source": [
    "## Stock data\n",
    "With the goal of getting an overview of the state of the economic situation in a number of countries, stock indexes was choosen. However within each country multiple stock indexes exist. Focus was therefor on choosing a major index within each country. The choices for the selected countries is as follows:<br>\n",
    "- Australia: S&P ASX 200\n",
    "- Brazil: IBOV\n",
    "- Canada: S&P/TSX Composite\n",
    "- China: SSE Composite\n",
    "- Denmark: OMX C20\n",
    "- France: CAC 40\n",
    "- Germany: DAX\n",
    "- India: BSE Sensex\n",
    "- Italy: FTSE MIB\n",
    "- Japan: Nikkei 225 \n",
    "- Korea: KOSPI\n",
    "- South Africa:  **XIN???**\n",
    "- Spain: IBEX 35\n",
    "- UK: FTSE 100\n",
    "- US: S&P 500\n",
    "\n",
    "All data was obtained from the following source, https://www.investing.com/indices/major-indices (14.4.2020)"
   ]
  },
  {
   "cell_type": "markdown",
   "metadata": {},
   "source": [
    "## Industry data\n",
    "At last the stock data for 10 different companies was used. The focus was on well known companises, within industries expected to have been particularly effect by COVID-19.\n",
    "- 3M\n",
    "- Amazon\n",
    "- Disney\n",
    "- Justeat\n",
    "- McDonald\n",
    "- Netflix\n",
    "- Ryanair\n",
    "- SAS\n",
    "- Tivoli\n",
    "- Yiling pharmacy<br>\n",
    "All data was obtained from https://www.investing.com/indices/major-indices (14.4.2020)"
   ]
  },
  {
   "cell_type": "markdown",
   "metadata": {},
   "source": [
    "# Basic stats"
   ]
  },
  {
   "cell_type": "markdown",
   "metadata": {},
   "source": [
    "# Data Analysis"
   ]
  },
  {
   "cell_type": "markdown",
   "metadata": {},
   "source": [
    "# Genre"
   ]
  },
  {
   "cell_type": "markdown",
   "metadata": {},
   "source": [
    "# Visualizations"
   ]
  },
  {
   "cell_type": "markdown",
   "metadata": {},
   "source": [
    "# Contributions"
   ]
  }
 ],
 "metadata": {
  "kernelspec": {
   "display_name": "Python 3",
   "language": "python",
   "name": "python3"
  },
  "language_info": {
   "codemirror_mode": {
    "name": "ipython",
    "version": 3
   },
   "file_extension": ".py",
   "mimetype": "text/x-python",
   "name": "python",
   "nbconvert_exporter": "python",
   "pygments_lexer": "ipython3",
   "version": "3.6.5"
  }
 },
 "nbformat": 4,
 "nbformat_minor": 4
}
