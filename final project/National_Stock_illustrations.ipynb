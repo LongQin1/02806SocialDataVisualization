{
 "cells": [
  {
   "cell_type": "code",
   "execution_count": 1,
   "metadata": {},
   "outputs": [],
   "source": [
    "import pandas as pd"
   ]
  },
  {
   "cell_type": "markdown",
   "metadata": {},
   "source": [
    "## Load data"
   ]
  },
  {
   "cell_type": "code",
   "execution_count": 2,
   "metadata": {},
   "outputs": [],
   "source": [
    "stock_Brazil=pd.read_csv(\"Stock major indicies/Bovespa Historical Data_Brazil.csv\")\n",
    "stock_Brazil['Country']='Brazil'\n",
    "\n",
    "stock_India=pd.read_csv(\"Stock major indicies/BSE Sensex 30 Historical Data_India.csv\")\n",
    "stock_India['Country']='India'\n",
    "\n",
    "stock_France=pd.read_csv(\"Stock major indicies/CAC 40 Historical Data_Paris.csv\")\n",
    "stock_France['Country']='France'\n",
    "\n",
    "stock_Germany=pd.read_csv(\"Stock major indicies/DAX Historical Data_Germany.csv\")\n",
    "stock_Germany['Country']='Germany'\n",
    "\n",
    "stock_US=pd.read_csv(\"Stock major indicies/Dow Jones Industrial Average Historical Data_US.csv\")\n",
    "stock_US['Country']='US'\n",
    "\n",
    "stock_UK=pd.read_csv(\"Stock major indicies/FTSE 100 Historical Data_UK.csv\")\n",
    "stock_UK['Country']='UK'\n",
    "\n",
    "stock_Italy=pd.read_csv(\"Stock major indicies/FTSE MIB Historical Data_Italy.csv\")\n",
    "stock_Italy['Country']='Italy'\n",
    "\n",
    "stock_Spain=pd.read_csv(\"Stock major indicies/IBEX 35 Historical Data_Spain.csv\")\n",
    "stock_Spain['Country']='Spain'\n",
    "\n",
    "stock_Korea=pd.read_csv(\"Stock major indicies/KOSPI Historical Data_South Korea.csv\")\n",
    "stock_Korea['Country']='Korea'\n",
    "\n",
    "stock_Japan=pd.read_csv(\"Stock major indicies/Nikkei 225 Historical Data_Japan.csv\")\n",
    "stock_Japan['Country']='Japan'\n",
    "\n",
    "stock_Denmark=pd.read_csv(\"Stock major indicies/OMX Copenhagen 20 Historical Data_Denmark.csv\")\n",
    "stock_Denmark['Country']='Denmark'\n",
    "\n",
    "stock_Australia=pd.read_csv(\"Stock major indicies/S&P_ASX 200 Historical Data_Austrila.csv\")\n",
    "stock_Australia['Country']='Australia'\n",
    "\n",
    "stock_Canada=pd.read_csv(\"Stock major indicies/S&P_TSX Composite Historical Data_Canada.csv\")\n",
    "stock_Canada['Country']='Canada'\n",
    "\n",
    "stock_China=pd.read_csv(\"Stock major indicies/Shanghai Composite Historical Data_China.csv\")\n",
    "stock_China['Country']='China'\n",
    "\n",
    "stock_SouthAfrica=pd.read_csv(\"Stock major indicies/South-Africa-Top-40-Historical-Data_South-Africa.csv\")\n",
    "stock_SouthAfrica['Country']='South Africa'"
   ]
  },
  {
   "cell_type": "code",
   "execution_count": 3,
   "metadata": {},
   "outputs": [],
   "source": [
    "stock_data=pd.concat([stock_Brazil,stock_India,stock_France,stock_Germany,stock_US,stock_UK,stock_Italy,stock_Spain,stock_Korea,stock_Japan,stock_Denmark,stock_Australia,stock_Canada,stock_China,stock_SouthAfrica])"
   ]
  },
  {
   "cell_type": "markdown",
   "metadata": {},
   "source": [
    "# Data preparation"
   ]
  },
  {
   "cell_type": "markdown",
   "metadata": {},
   "source": [
    "We are gonna focus on data from October 2019 to 14th of Auguts 2020"
   ]
  },
  {
   "cell_type": "code",
   "execution_count": 4,
   "metadata": {},
   "outputs": [],
   "source": [
    "stock_data['Date']=pd.to_datetime(stock_data['Date'])\n",
    "stock_data=stock_data.loc[(stock_data['Date'] > '30-09-2019')]"
   ]
  },
  {
   "cell_type": "markdown",
   "metadata": {},
   "source": [
    "The remaining columns are changed to float"
   ]
  },
  {
   "cell_type": "code",
   "execution_count": 5,
   "metadata": {},
   "outputs": [],
   "source": [
    "stock_data['Price']=stock_data.Price.str.replace(\",\", \"\").apply(lambda l: float(l))\n",
    "stock_data['Open']=stock_data.Open.str.replace(\",\", \"\").apply(lambda l: float(l))\n",
    "stock_data['High']=stock_data.High.str.replace(\",\", \"\").apply(lambda l: float(l))\n",
    "stock_data['Low']=stock_data.Low.str.replace(\",\", \"\").apply(lambda l: float(l))\n",
    "stock_data['Change %']=stock_data['Change %'].str.replace('%','').apply(lambda l:float(l))\n",
    "stock_data=stock_data.rename(columns={\"Change %\": \"Change\"})"
   ]
  },
  {
   "cell_type": "markdown",
   "metadata": {},
   "source": [
    "The Vol. column is dropped as it does not represent a value of intrest for this project."
   ]
  },
  {
   "cell_type": "code",
   "execution_count": 6,
   "metadata": {},
   "outputs": [],
   "source": [
    "stock_data=stock_data.drop(['Vol.'],axis=1)"
   ]
  },
  {
   "cell_type": "markdown",
   "metadata": {},
   "source": [
    "## Line plot"
   ]
  },
  {
   "cell_type": "markdown",
   "metadata": {},
   "source": [
    "https://realpython.com/python-data-visualization-bokeh/\n",
    "https://docs.bokeh.org/en/latest/docs/user_guide/styling.html"
   ]
  },
  {
   "cell_type": "code",
   "execution_count": 7,
   "metadata": {},
   "outputs": [],
   "source": [
    "from bokeh.io import output_notebook, show\n",
    "from bokeh.models import ColumnDataSource,FactorRange\n",
    "from bokeh.plotting import figure\n",
    "from bokeh.palettes import viridis\n",
    "from bokeh.models import Legend\n",
    "from bokeh.models import HoverTool\n",
    "from collections import OrderedDict\n",
    "from bokeh.plotting import output_file\n",
    "#output_notebook()"
   ]
  },
  {
   "cell_type": "code",
   "execution_count": 8,
   "metadata": {},
   "outputs": [],
   "source": [
    "fig = figure(title='Daily change in stock marked',title_location='above',\n",
    "            plot_width=1000,plot_height=500,\n",
    "            y_axis_label=\"% daily change\",\n",
    "            x_axis_label=\"Date\", x_axis_type=\"datetime\",\n",
    "            tools=\"reset,save\")"
   ]
  },
  {
   "cell_type": "code",
   "execution_count": 9,
   "metadata": {},
   "outputs": [],
   "source": [
    "countries=list(stock_data.Country.unique())\n",
    "colors=viridis(len(stock_data.Country.unique()))\n",
    "line={}\n",
    "items=[]\n",
    "for i in range(len(countries)):\n",
    "     source = ColumnDataSource(\n",
    "     data={'Date':stock_data.loc[stock_data.Country== countries[i]].Date,\n",
    "           'Country':stock_data.loc[stock_data.Country == countries[i]].Country,\n",
    "           'Change':stock_data.loc[stock_data.Country == countries[i]].Change})\n",
    "     line[countries[i]]=fig.line(x='Date',y='Change', source=source, color = (colors[i]))\n",
    "     items.append((countries[i], [line[countries[i]]]))"
   ]
  },
  {
   "cell_type": "code",
   "execution_count": 10,
   "metadata": {},
   "outputs": [],
   "source": [
    "legend = Legend(items=items, location=(0, 0))\n",
    "hover = HoverTool(tooltips =[\n",
    "     ('Country','@Country'),('Date','@Date{%F}'),('Change','@Change')],formatters={'@Date': 'datetime'})\n",
    "fig.add_tools(hover)\n",
    "fig.add_layout(legend, 'right')\n",
    "fig.legend.click_policy=\"hide\"\n",
    "output_file('national_stock.html')\n",
    "show(fig)"
   ]
  },
  {
   "cell_type": "markdown",
   "metadata": {},
   "source": [
    "It is clear that something drastic starts happening in the stock markeds around the world around the end of feburary, which intensify in the begining of Marts. This coorsponds with the time around which the first cases starts being confirmed outside of china. However it is difficult to really get an overview of the of the differences between the differen countries. The only really distinct thing which can be observed is that China experience a drastic drop already in the end of January. "
   ]
  },
  {
   "cell_type": "markdown",
   "metadata": {},
   "source": [
    "### Price"
   ]
  },
  {
   "cell_type": "code",
   "execution_count": 11,
   "metadata": {},
   "outputs": [],
   "source": [
    "fig = figure(title='Daily stock price',title_location='above',\n",
    "            plot_width=1000,plot_height=500,\n",
    "            y_axis_label=\"Price in national valuta\",\n",
    "            x_axis_label=\"Date\", x_axis_type=\"datetime\",\n",
    "            tools=\"reset,save\")"
   ]
  },
  {
   "cell_type": "code",
   "execution_count": 12,
   "metadata": {},
   "outputs": [],
   "source": [
    "line={}\n",
    "items=[]\n",
    "for i in range(len(countries)):\n",
    "     source = ColumnDataSource(\n",
    "     data={'Date':stock_data.loc[stock_data.Country== countries[i]].Date,\n",
    "           'Country':stock_data.loc[stock_data.Country == countries[i]].Country,\n",
    "           'Price':stock_data.loc[stock_data.Country == countries[i]].Price})\n",
    "     line[countries[i]]=fig.line(x='Date',y='Price', source=source, color = (colors[i]))\n",
    "     items.append((countries[i], [line[countries[i]]]))"
   ]
  },
  {
   "cell_type": "code",
   "execution_count": 13,
   "metadata": {
    "scrolled": true
   },
   "outputs": [],
   "source": [
    "legend = Legend(items=items, location=(0, 0))\n",
    "hover = HoverTool(tooltips =[\n",
    "     ('Country','@Country'),('Date','@Date{%F}'),('Price','@Price')],formatters={'@Date': 'datetime'})\n",
    "fig.add_tools(hover)\n",
    "fig.add_layout(legend, 'right')\n",
    "fig.legend.click_policy=\"hide\"\n",
    "\n",
    "show(fig)"
   ]
  },
  {
   "cell_type": "markdown",
   "metadata": {},
   "source": [
    "When focusing on the price it is easier to see that all the stock markeds have experienced a change following approximatly the same pattern since around the end of Febuary. However the plot is also missleading in the sense that the prices are not all in the same valuta, and comparing the numerical price in Brazill with that in germany does not make sense."
   ]
  },
  {
   "cell_type": "markdown",
   "metadata": {},
   "source": [
    "What both plots however make clear is that all the stock markeds have been affect by COVID-19. Indicating the financial consequences also introduced by the virus."
   ]
  },
  {
   "cell_type": "code",
   "execution_count": 14,
   "metadata": {},
   "outputs": [],
   "source": [
    "import pandas as pd\n",
    "from bokeh.sampledata.iris import flowers\n",
    "from bokeh.io import output_file\n",
    "from bokeh.plotting import figure, show\n",
    "from bokeh.models import ColumnDataSource, HoverTool\n",
    "\n",
    "colormap = {'setosa': 'red', 'versicolor': 'green', 'virginica': 'blue'}\n",
    "flowers['colors'] = [colormap[x] for x in flowers['species']]\n",
    "\n",
    "hover = HoverTool(tooltips=[\n",
    "    (\"Sepal length\", \"@sepal_length\"),\n",
    "    (\"Sepal width\", \"@sepal_width\"),\n",
    "    (\"Petal length\", \"@petal_length\"),\n",
    "    (\"Species\", \"@species\")\n",
    "    ])\n",
    "\n",
    "p = figure(title = \"Iris Morphology\", plot_height=500, plot_width=500, tools=[hover, \"pan,reset,wheel_zoom\"])\n",
    "\n",
    "p.xaxis.axis_label = 'Petal Length'\n",
    "p.yaxis.axis_label = 'Petal Width'\n",
    "\n",
    "p.circle('petal_length', 'petal_width', color='colors', \n",
    "         fill_alpha=0.2, size=10, source=ColumnDataSource(flowers))\n",
    "\n",
    "output_file('flowers.html')\n",
    "\n",
    "show(p)"
   ]
  },
  {
   "cell_type": "code",
   "execution_count": 15,
   "metadata": {},
   "outputs": [
    {
     "name": "stderr",
     "output_type": "stream",
     "text": [
      "WARNING:bokeh.core.validation.check:W-1000 (MISSING_RENDERERS): Plot has no renderers: Figure(id='2514', ...)\n"
     ]
    }
   ],
   "source": [
    "# Bokeh Libraries\n",
    "from bokeh.io import output_file\n",
    "from bokeh.plotting import figure, show\n",
    "\n",
    "# The figure will be rendered in a static HTML file\n",
    "# called output_file_test.html\n",
    "output_file('output_file_test.html', \n",
    "            title='Empty Bokeh Figure')\n",
    "\n",
    "# Set up a generic figure() object\n",
    "fig = figure()\n",
    "\n",
    "# See what it looks like\n",
    "show(fig)"
   ]
  }
 ],
 "metadata": {
  "kernelspec": {
   "display_name": "Python 3",
   "language": "python",
   "name": "python3"
  },
  "language_info": {
   "codemirror_mode": {
    "name": "ipython",
    "version": 3
   },
   "file_extension": ".py",
   "mimetype": "text/x-python",
   "name": "python",
   "nbconvert_exporter": "python",
   "pygments_lexer": "ipython3",
   "version": "3.6.5"
  }
 },
 "nbformat": 4,
 "nbformat_minor": 4
}
