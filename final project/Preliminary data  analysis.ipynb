{
 "cells": [
  {
   "cell_type": "code",
   "execution_count": 1,
   "metadata": {},
   "outputs": [],
   "source": [
    "import pandas as pd"
   ]
  },
  {
   "cell_type": "markdown",
   "metadata": {},
   "source": [
    "# stock data"
   ]
  },
  {
   "cell_type": "markdown",
   "metadata": {},
   "source": [
    "## Loading data"
   ]
  },
  {
   "cell_type": "code",
   "execution_count": 2,
   "metadata": {},
   "outputs": [],
   "source": [
    "stock_Brazil=pd.read_csv(\"Stock major indicies/Bovespa Historical Data_Brazil.csv\")"
   ]
  },
  {
   "cell_type": "code",
   "execution_count": 42,
   "metadata": {},
   "outputs": [],
   "source": [
    "stock_Brazil['Country']='Brazil'"
   ]
  },
  {
   "cell_type": "code",
   "execution_count": 43,
   "metadata": {},
   "outputs": [
    {
     "data": {
      "text/html": [
       "<div>\n",
       "<style scoped>\n",
       "    .dataframe tbody tr th:only-of-type {\n",
       "        vertical-align: middle;\n",
       "    }\n",
       "\n",
       "    .dataframe tbody tr th {\n",
       "        vertical-align: top;\n",
       "    }\n",
       "\n",
       "    .dataframe thead th {\n",
       "        text-align: right;\n",
       "    }\n",
       "</style>\n",
       "<table border=\"1\" class=\"dataframe\">\n",
       "  <thead>\n",
       "    <tr style=\"text-align: right;\">\n",
       "      <th></th>\n",
       "      <th>Date</th>\n",
       "      <th>Price</th>\n",
       "      <th>Open</th>\n",
       "      <th>High</th>\n",
       "      <th>Low</th>\n",
       "      <th>Vol.</th>\n",
       "      <th>Change %</th>\n",
       "      <th>Country</th>\n",
       "    </tr>\n",
       "  </thead>\n",
       "  <tbody>\n",
       "    <tr>\n",
       "      <td>0</td>\n",
       "      <td>Apr 13, 2020</td>\n",
       "      <td>78,835.82</td>\n",
       "      <td>77,681.94</td>\n",
       "      <td>78,835.82</td>\n",
       "      <td>76,405.36</td>\n",
       "      <td>7.65M</td>\n",
       "      <td>1.49%</td>\n",
       "      <td>Brazil</td>\n",
       "    </tr>\n",
       "    <tr>\n",
       "      <td>1</td>\n",
       "      <td>Apr 09, 2020</td>\n",
       "      <td>77,681.94</td>\n",
       "      <td>78,639.74</td>\n",
       "      <td>80,427.60</td>\n",
       "      <td>77,456.86</td>\n",
       "      <td>10.75M</td>\n",
       "      <td>-1.20%</td>\n",
       "      <td>Brazil</td>\n",
       "    </tr>\n",
       "    <tr>\n",
       "      <td>2</td>\n",
       "      <td>Apr 08, 2020</td>\n",
       "      <td>78,624.62</td>\n",
       "      <td>76,334.79</td>\n",
       "      <td>79,058.13</td>\n",
       "      <td>76,115.19</td>\n",
       "      <td>10.21M</td>\n",
       "      <td>2.97%</td>\n",
       "      <td>Brazil</td>\n",
       "    </tr>\n",
       "    <tr>\n",
       "      <td>3</td>\n",
       "      <td>Apr 07, 2020</td>\n",
       "      <td>76,358.09</td>\n",
       "      <td>74,078.01</td>\n",
       "      <td>79,855.48</td>\n",
       "      <td>74,078.01</td>\n",
       "      <td>11.29M</td>\n",
       "      <td>3.08%</td>\n",
       "      <td>Brazil</td>\n",
       "    </tr>\n",
       "    <tr>\n",
       "      <td>4</td>\n",
       "      <td>Apr 06, 2020</td>\n",
       "      <td>74,072.98</td>\n",
       "      <td>69,555.61</td>\n",
       "      <td>75,259.70</td>\n",
       "      <td>69,555.61</td>\n",
       "      <td>9.69M</td>\n",
       "      <td>6.52%</td>\n",
       "      <td>Brazil</td>\n",
       "    </tr>\n",
       "  </tbody>\n",
       "</table>\n",
       "</div>"
      ],
      "text/plain": [
       "           Date      Price       Open       High        Low    Vol. Change %  \\\n",
       "0  Apr 13, 2020  78,835.82  77,681.94  78,835.82  76,405.36   7.65M    1.49%   \n",
       "1  Apr 09, 2020  77,681.94  78,639.74  80,427.60  77,456.86  10.75M   -1.20%   \n",
       "2  Apr 08, 2020  78,624.62  76,334.79  79,058.13  76,115.19  10.21M    2.97%   \n",
       "3  Apr 07, 2020  76,358.09  74,078.01  79,855.48  74,078.01  11.29M    3.08%   \n",
       "4  Apr 06, 2020  74,072.98  69,555.61  75,259.70  69,555.61   9.69M    6.52%   \n",
       "\n",
       "  Country  \n",
       "0  Brazil  \n",
       "1  Brazil  \n",
       "2  Brazil  \n",
       "3  Brazil  \n",
       "4  Brazil  "
      ]
     },
     "execution_count": 43,
     "metadata": {},
     "output_type": "execute_result"
    }
   ],
   "source": [
    "stock_Brazil.head()"
   ]
  },
  {
   "cell_type": "code",
   "execution_count": 4,
   "metadata": {},
   "outputs": [],
   "source": [
    "stock_India=pd.read_csv(\"Stock major indicies/BSE Sensex 30 Historical Data_India.csv\")"
   ]
  },
  {
   "cell_type": "code",
   "execution_count": 44,
   "metadata": {},
   "outputs": [],
   "source": [
    "stock_India['Country']='India'"
   ]
  },
  {
   "cell_type": "code",
   "execution_count": 46,
   "metadata": {},
   "outputs": [],
   "source": [
    "stock_France=pd.read_csv(\"Stock major indicies/CAC 40 Historical Data_Paris.csv\")"
   ]
  },
  {
   "cell_type": "code",
   "execution_count": 47,
   "metadata": {},
   "outputs": [],
   "source": [
    "stock_France['Country']='France'"
   ]
  },
  {
   "cell_type": "code",
   "execution_count": 8,
   "metadata": {},
   "outputs": [],
   "source": [
    "stock_Germany=pd.read_csv(\"Stock major indicies/DAX Historical Data_Germany.csv\")"
   ]
  },
  {
   "cell_type": "code",
   "execution_count": 48,
   "metadata": {},
   "outputs": [],
   "source": [
    "stock_Germany['Country']='Germany'"
   ]
  },
  {
   "cell_type": "code",
   "execution_count": 10,
   "metadata": {},
   "outputs": [],
   "source": [
    "stock_US=pd.read_csv(\"Stock major indicies/Dow Jones Industrial Average Historical Data_US.csv\")\n",
    "# There is two us indexes which should we choose? (S&P 500 Historical Data_US.csv)"
   ]
  },
  {
   "cell_type": "code",
   "execution_count": 49,
   "metadata": {},
   "outputs": [],
   "source": [
    "stock_US['Country']='US'"
   ]
  },
  {
   "cell_type": "code",
   "execution_count": 12,
   "metadata": {},
   "outputs": [],
   "source": [
    "stock_UK=pd.read_csv(\"Stock major indicies/FTSE 100 Historical Data_UK.csv\")"
   ]
  },
  {
   "cell_type": "code",
   "execution_count": 50,
   "metadata": {},
   "outputs": [],
   "source": [
    "stock_UK['Country']='UK'"
   ]
  },
  {
   "cell_type": "code",
   "execution_count": 14,
   "metadata": {},
   "outputs": [],
   "source": [
    "stock_Italy=pd.read_csv(\"Stock major indicies/FTSE MIB Historical Data_Italy.csv\")"
   ]
  },
  {
   "cell_type": "code",
   "execution_count": 51,
   "metadata": {},
   "outputs": [],
   "source": [
    "stock_Italy['Country']='Italy'"
   ]
  },
  {
   "cell_type": "code",
   "execution_count": 16,
   "metadata": {},
   "outputs": [],
   "source": [
    "stock_Spain=pd.read_csv(\"Stock major indicies/IBEX 35 Historical Data_Spain.csv\")"
   ]
  },
  {
   "cell_type": "code",
   "execution_count": 52,
   "metadata": {},
   "outputs": [],
   "source": [
    "stock_Spain['Country']='Spain'"
   ]
  },
  {
   "cell_type": "code",
   "execution_count": 18,
   "metadata": {},
   "outputs": [],
   "source": [
    "stock_Korea=pd.read_csv(\"Stock major indicies/KOSPI Historical Data_South Korea.csv\")"
   ]
  },
  {
   "cell_type": "code",
   "execution_count": 53,
   "metadata": {},
   "outputs": [],
   "source": [
    "stock_Korea['Country']='Korea'"
   ]
  },
  {
   "cell_type": "code",
   "execution_count": 20,
   "metadata": {},
   "outputs": [],
   "source": [
    "stock_Japan=pd.read_csv(\"Stock major indicies/Nikkei 225 Historical Data_Japan.csv\")"
   ]
  },
  {
   "cell_type": "code",
   "execution_count": 54,
   "metadata": {},
   "outputs": [],
   "source": [
    "stock_Japan['Country']='Japan'"
   ]
  },
  {
   "cell_type": "code",
   "execution_count": 22,
   "metadata": {},
   "outputs": [],
   "source": [
    "stock_Denmark=pd.read_csv(\"Stock major indicies/OMX Copenhagen 20 Historical Data_Denmark.csv\")"
   ]
  },
  {
   "cell_type": "code",
   "execution_count": 55,
   "metadata": {},
   "outputs": [],
   "source": [
    "stock_Denmark['Country']='Denmark'"
   ]
  },
  {
   "cell_type": "code",
   "execution_count": 24,
   "metadata": {},
   "outputs": [],
   "source": [
    "stock_Australia=pd.read_csv(\"Stock major indicies/S&P_ASX 200 Historical Data_Austrila.csv\")"
   ]
  },
  {
   "cell_type": "code",
   "execution_count": 56,
   "metadata": {},
   "outputs": [],
   "source": [
    "stock_Australia['Country']='Australia'"
   ]
  },
  {
   "cell_type": "code",
   "execution_count": 26,
   "metadata": {},
   "outputs": [],
   "source": [
    "stock_Canada=pd.read_csv(\"Stock major indicies/S&P_TSX Composite Historical Data_Canada.csv\")"
   ]
  },
  {
   "cell_type": "code",
   "execution_count": 57,
   "metadata": {},
   "outputs": [],
   "source": [
    "stock_Canada['Country']='Canada'"
   ]
  },
  {
   "cell_type": "code",
   "execution_count": 28,
   "metadata": {},
   "outputs": [],
   "source": [
    "stock_China=pd.read_csv(\"Stock major indicies/Shanghai Composite Historical Data_China.csv\")"
   ]
  },
  {
   "cell_type": "code",
   "execution_count": 58,
   "metadata": {},
   "outputs": [],
   "source": [
    "stock_China['Country']='China'"
   ]
  },
  {
   "cell_type": "code",
   "execution_count": 30,
   "metadata": {},
   "outputs": [],
   "source": [
    "stock_SouthAfrica=pd.read_csv(\"Stock major indicies/South Africa 40 Historical Data_South Africa.csv\")"
   ]
  },
  {
   "cell_type": "code",
   "execution_count": 59,
   "metadata": {},
   "outputs": [],
   "source": [
    "stock_SouthAfrica['Country']='South Africa'"
   ]
  },
  {
   "cell_type": "code",
   "execution_count": 76,
   "metadata": {},
   "outputs": [],
   "source": [
    "stock_data=pd.concat([stock_Brazil,stock_India,stock_France,stock_Germany,stock_US,stock_UK,stock_Italy,stock_Spain,stock_Korea,stock_Japan,stock_Denmark,stock_Australia,stock_Canada,stock_China,stock_SouthAfrica])"
   ]
  },
  {
   "cell_type": "code",
   "execution_count": null,
   "metadata": {},
   "outputs": [],
   "source": []
  }
 ],
 "metadata": {
  "kernelspec": {
   "display_name": "Python 3",
   "language": "python",
   "name": "python3"
  },
  "language_info": {
   "codemirror_mode": {
    "name": "ipython",
    "version": 3
   },
   "file_extension": ".py",
   "mimetype": "text/x-python",
   "name": "python",
   "nbconvert_exporter": "python",
   "pygments_lexer": "ipython3",
   "version": "3.6.5"
  }
 },
 "nbformat": 4,
 "nbformat_minor": 4
}
