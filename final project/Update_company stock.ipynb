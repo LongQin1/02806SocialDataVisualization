{
 "cells": [
  {
   "cell_type": "code",
   "execution_count": 1,
   "metadata": {},
   "outputs": [],
   "source": [
    "import pandas as pd"
   ]
  },
  {
   "cell_type": "markdown",
   "metadata": {},
   "source": [
    "## Load data"
   ]
  },
  {
   "cell_type": "code",
   "execution_count": 132,
   "metadata": {},
   "outputs": [],
   "source": [
    "company_Yiling=pd.read_csv(\"002603 Historical Data_Yiling pharmacy.csv\")\n",
    "company_Yiling['Company']='Yiling'\n",
    "company_Yiling['Change %']=company_Yiling['Change %'].str.replace('%','').apply(lambda l:float(l))\n",
    "company_Yiling['Date']=pd.to_datetime(company_Yiling['Date'])\n",
    "company_Yiling=company_Yiling.sort_values(by=['Date'],ascending=True)\n",
    "company_Yiling=company_Yiling.loc[(company_Yiling['Date'] > '01-01-2020')]\n",
    "company_Yiling['Change_acc']=company_Yiling['Change %'].cumsum()\n"
   ]
  },
  {
   "cell_type": "code",
   "execution_count": 134,
   "metadata": {},
   "outputs": [],
   "source": [
    "company_Yiling=pd.read_csv(\"002603 Historical Data_Yiling pharmacy.csv\")\n",
    "company_Yiling['Company']='Yiling'\n",
    "company_Yiling['Change %']=company_Yiling['Change %'].str.replace('%','').apply(lambda l:float(l))\n",
    "company_Yiling['Date']=pd.to_datetime(company_Yiling['Date'])\n",
    "company_Yiling=company_Yiling.sort_values(by=['Date'],ascending=True)\n",
    "company_Yiling=company_Yiling.loc[(company_Yiling['Date'] > '01-01-2020')]\n",
    "company_Yiling['Change_acc']=company_Yiling['Change %'].cumsum()\n",
    "\n",
    "\n",
    "company_AMZH=pd.read_csv(\"AMZN Historical Data_Amazon.csv\")\n",
    "company_AMZH['Company']='Amazon_Online'\n",
    "company_AMZH['Change %']=company_AMZH['Change %'].str.replace('%','').apply(lambda l:float(l))\n",
    "company_AMZH['Date']=pd.to_datetime(company_AMZH['Date'])\n",
    "company_AMZH=company_AMZH.sort_values(by=['Date'],ascending=True)\n",
    "company_AMZH=company_AMZH.loc[(company_AMZH['Date'] > '01-01-2020')]\n",
    "company_AMZH['Change_acc']=company_AMZH['Change %'].cumsum()\n",
    "\n",
    "\n",
    "company_DIS=pd.read_csv(\"DIS Historical Data_Disney.csv\")\n",
    "company_DIS['Company']='Dis_Enter'\n",
    "company_DIS['Change %']=company_DIS['Change %'].str.replace('%','').apply(lambda l:float(l))\n",
    "company_DIS['Date']=pd.to_datetime(company_DIS['Date'])\n",
    "company_DIS=company_DIS.sort_values(by=['Date'],ascending=True)\n",
    "company_DIS=company_DIS.loc[(company_DIS['Date'] > '01-01-2020')]\n",
    "company_DIS['Change_acc']=company_DIS['Change %'].cumsum()\n",
    "\n",
    "\n",
    "company_MCD=pd.read_csv(\"MCD Historical Data_McDonald’s.csv\")\n",
    "company_MCD['Company']='Mcd_Food'\n",
    "company_MCD['Change %']=company_MCD['Change %'].str.replace('%','').apply(lambda l:float(l))\n",
    "company_MCD['Date']=pd.to_datetime(company_MCD['Date'])\n",
    "company_MCD=company_MCD.sort_values(by=['Date'],ascending=True)\n",
    "company_MCD=company_MCD[(company_MCD['Date'] > '01-01-2020')]\n",
    "company_MCD['Change_acc']=company_MCD['Change %'].cumsum()\n",
    "\n",
    "\n",
    "company_MMM=pd.read_csv(\"MMM Historical Data_3M.csv\")\n",
    "company_MMM['Company']='MMM_Medical'\n",
    "company_MMM['Change %']=company_MMM['Change %'].str.replace('%','').apply(lambda l:float(l))\n",
    "company_MMM['Date']=pd.to_datetime(company_MMM['Date'])\n",
    "company_MMM=company_MMM.sort_values(by=['Date'],ascending=True)\n",
    "company_MMM=company_MMM.loc[(company_MMM['Date'] > '01-01-2020')]\n",
    "company_MMM['Change_acc']=company_MMM['Change %'].cumsum()\n",
    "\n",
    "\n",
    "company_RYA=pd.read_csv(\"RYA Historical Data_Ryanair.csv\")\n",
    "company_RYA['Company']='Rya_Trans'\n",
    "company_RYA['Change %']=company_RYA['Change %'].str.replace('%','').apply(lambda l:float(l))\n",
    "company_RYA['Date']=pd.to_datetime(company_RYA['Date'])\n",
    "company_RYA=company_RYA.sort_values(by=['Date'],ascending=True)\n",
    "company_RYA=company_RYA.loc[(company_RYA['Date'] > '01-01-2020')]\n",
    "company_RYA['Change_acc']=company_RYA['Change %'].cumsum()\n",
    "\n",
    "\n",
    "company_SAS=pd.read_csv(\"SAS Historical Data_SAS.csv\")\n",
    "company_SAS['Company']='SAS_Trans'\n",
    "company_SAS['Change %']=company_SAS['Change %'].str.replace('%','').apply(lambda l:float(l))\n",
    "company_SAS['Date']=pd.to_datetime(company_SAS['Date'])\n",
    "company_SAS=company_SAS.sort_values(by=['Date'],ascending=True)\n",
    "company_SAS=company_SAS.loc[(company_SAS['Date'] > '01-01-2020')]\n",
    "company_SAS['Change_acc']=company_SAS['Change %'].cumsum()\n",
    "\n",
    "\n",
    "company_TIV=pd.read_csv(\"TIV Historical Data_Tivoli.csv\")\n",
    "company_TIV['Company']='Tiv_Enter'\n",
    "company_TIV['Change %']=company_TIV['Change %'].str.replace('%','').apply(lambda l:float(l))\n",
    "company_TIV['Date']=pd.to_datetime(company_TIV['Date'])\n",
    "company_TIV=company_TIV.sort_values(by=['Date'],ascending=True)\n",
    "company_TIV=company_TIV.loc[(company_TIV['Date'] > '01-01-2020')]\n",
    "company_TIV['Change_acc']=company_TIV['Change %'].cumsum()\n",
    "\n",
    "\n",
    "company_TKWY=pd.read_csv(\"TKWY Historical Data_Just eat take away.csv\")\n",
    "company_TKWY['Company']='Takeaway_Food'\n",
    "company_TKWY['Change %']=company_TKWY['Change %'].str.replace('%','').apply(lambda l:float(l))\n",
    "company_TKWY['Date']=pd.to_datetime(company_TKWY['Date'])\n",
    "company_TKWY=company_TKWY.sort_values(by=['Date'],ascending=True)\n",
    "company_TKWY=company_TKWY.loc[(company_TKWY['Date'] > '01-01-2020')]\n",
    "company_TKWY['Change_acc']=company_TKWY['Change %'].cumsum()\n",
    "\n",
    "\n",
    "company_NFLX=pd.read_csv(\"NFLX Historical Data_Netflix.csv\")\n",
    "company_NFLX['Company']='Net_Enter'\n",
    "company_NFLX['Change %']=company_NFLX['Change %'].str.replace('%','').apply(lambda l:float(l))\n",
    "company_NFLX['Date']=pd.to_datetime(company_NFLX['Date'])\n",
    "company_NFLX=company_NFLX.sort_values(by=['Date'],ascending=True)\n",
    "company_NFLX=company_NFLX.loc[(company_NFLX['Date'] > '01-01-2020')]\n",
    "company_NFLX['Change_acc']=company_NFLX['Change %'].cumsum()\n"
   ]
  },
  {
   "cell_type": "code",
   "execution_count": 135,
   "metadata": {},
   "outputs": [],
   "source": [
    "company_data=pd.concat([company_Yiling,company_AMZH,company_DIS,company_MCD,company_MMM,company_RYA,company_SAS,company_TIV,company_TKWY,company_NFLX])"
   ]
  },
  {
   "cell_type": "markdown",
   "metadata": {},
   "source": [
    "# Data preparation"
   ]
  },
  {
   "cell_type": "markdown",
   "metadata": {},
   "source": [
    "We are gonna focus on data from 2020-01-01 to 2020-04-14."
   ]
  },
  {
   "cell_type": "code",
   "execution_count": 114,
   "metadata": {},
   "outputs": [],
   "source": [
    "#company_data['Date']=pd.to_datetime(company_data['Date'])\n",
    "#company_data=company_data.loc[(company_data['Date'] > '01-01-2020')]"
   ]
  },
  {
   "cell_type": "markdown",
   "metadata": {},
   "source": [
    "The remaining columns are changed to float"
   ]
  },
  {
   "cell_type": "code",
   "execution_count": 27,
   "metadata": {},
   "outputs": [],
   "source": [
    "# company_data['Price']=company_data.Price.str.replace(\",\", \"\").apply(lambda l: float(l))\n",
    "# company_data['Open']=company_data.Open.str.replace(\",\", \"\").apply(lambda l: float(l))\n",
    "# company_data['High']=company_data.High.str.replace(\",\", \"\").apply(lambda l: float(l))\n",
    "# company_data['Low']=company_data.Low.str.replace(\",\", \"\").apply(lambda l: float(l))\n",
    "# company_data['Change %']=company_data['Change %'].str.replace('%','').apply(lambda l:float(l))\n",
    "# company_data=company_data.rename(columns={\"Change %\": \"Change\"})"
   ]
  },
  {
   "cell_type": "markdown",
   "metadata": {},
   "source": [
    "The Vol. column is dropped as it does not represent a value of intrest for this project."
   ]
  },
  {
   "cell_type": "code",
   "execution_count": 137,
   "metadata": {},
   "outputs": [],
   "source": [
    "company_data=company_data.drop(['Change %','Vol.','Price','Open','High','Low'],axis=1)"
   ]
  },
  {
   "cell_type": "code",
   "execution_count": 138,
   "metadata": {},
   "outputs": [
    {
     "data": {
      "text/html": [
       "<div>\n",
       "<style scoped>\n",
       "    .dataframe tbody tr th:only-of-type {\n",
       "        vertical-align: middle;\n",
       "    }\n",
       "\n",
       "    .dataframe tbody tr th {\n",
       "        vertical-align: top;\n",
       "    }\n",
       "\n",
       "    .dataframe thead th {\n",
       "        text-align: right;\n",
       "    }\n",
       "</style>\n",
       "<table border=\"1\" class=\"dataframe\">\n",
       "  <thead>\n",
       "    <tr style=\"text-align: right;\">\n",
       "      <th></th>\n",
       "      <th>Date</th>\n",
       "      <th>Company</th>\n",
       "      <th>Change_acc</th>\n",
       "    </tr>\n",
       "  </thead>\n",
       "  <tbody>\n",
       "    <tr>\n",
       "      <th>66</th>\n",
       "      <td>2020-01-02</td>\n",
       "      <td>Yiling</td>\n",
       "      <td>-2.57</td>\n",
       "    </tr>\n",
       "    <tr>\n",
       "      <th>65</th>\n",
       "      <td>2020-01-03</td>\n",
       "      <td>Yiling</td>\n",
       "      <td>-3.64</td>\n",
       "    </tr>\n",
       "    <tr>\n",
       "      <th>64</th>\n",
       "      <td>2020-01-06</td>\n",
       "      <td>Yiling</td>\n",
       "      <td>-3.31</td>\n",
       "    </tr>\n",
       "    <tr>\n",
       "      <th>63</th>\n",
       "      <td>2020-01-07</td>\n",
       "      <td>Yiling</td>\n",
       "      <td>-3.64</td>\n",
       "    </tr>\n",
       "    <tr>\n",
       "      <th>62</th>\n",
       "      <td>2020-01-08</td>\n",
       "      <td>Yiling</td>\n",
       "      <td>-3.56</td>\n",
       "    </tr>\n",
       "    <tr>\n",
       "      <th>...</th>\n",
       "      <td>...</td>\n",
       "      <td>...</td>\n",
       "      <td>...</td>\n",
       "    </tr>\n",
       "    <tr>\n",
       "      <th>4</th>\n",
       "      <td>2020-04-06</td>\n",
       "      <td>Net_Enter</td>\n",
       "      <td>20.36</td>\n",
       "    </tr>\n",
       "    <tr>\n",
       "      <th>3</th>\n",
       "      <td>2020-04-07</td>\n",
       "      <td>Net_Enter</td>\n",
       "      <td>18.34</td>\n",
       "    </tr>\n",
       "    <tr>\n",
       "      <th>2</th>\n",
       "      <td>2020-04-08</td>\n",
       "      <td>Net_Enter</td>\n",
       "      <td>18.03</td>\n",
       "    </tr>\n",
       "    <tr>\n",
       "      <th>1</th>\n",
       "      <td>2020-04-09</td>\n",
       "      <td>Net_Enter</td>\n",
       "      <td>17.92</td>\n",
       "    </tr>\n",
       "    <tr>\n",
       "      <th>0</th>\n",
       "      <td>2020-04-13</td>\n",
       "      <td>Net_Enter</td>\n",
       "      <td>24.93</td>\n",
       "    </tr>\n",
       "  </tbody>\n",
       "</table>\n",
       "<p>703 rows × 3 columns</p>\n",
       "</div>"
      ],
      "text/plain": [
       "         Date    Company  Change_acc\n",
       "66 2020-01-02     Yiling       -2.57\n",
       "65 2020-01-03     Yiling       -3.64\n",
       "64 2020-01-06     Yiling       -3.31\n",
       "63 2020-01-07     Yiling       -3.64\n",
       "62 2020-01-08     Yiling       -3.56\n",
       "..        ...        ...         ...\n",
       "4  2020-04-06  Net_Enter       20.36\n",
       "3  2020-04-07  Net_Enter       18.34\n",
       "2  2020-04-08  Net_Enter       18.03\n",
       "1  2020-04-09  Net_Enter       17.92\n",
       "0  2020-04-13  Net_Enter       24.93\n",
       "\n",
       "[703 rows x 3 columns]"
      ]
     },
     "execution_count": 138,
     "metadata": {},
     "output_type": "execute_result"
    }
   ],
   "source": [
    "company_data"
   ]
  },
  {
   "cell_type": "code",
   "execution_count": null,
   "metadata": {},
   "outputs": [],
   "source": [
    "Companies= ['Yiling', 'Amazon_Online', 'Dis_Enter', 'Mcd_Food', 'MMM_Medical', 'Rya_Trans', 'SAS_Trans', 'Tiv_Enter', 'Takeaway_Food','Net_Enter']"
   ]
  },
  {
   "cell_type": "code",
   "execution_count": 76,
   "metadata": {},
   "outputs": [],
   "source": [
    "colors=viridis(len(company_data.Company.unique()))\n"
   ]
  },
  {
   "cell_type": "code",
   "execution_count": 67,
   "metadata": {},
   "outputs": [],
   "source": [
    "import pandas as pd\n",
    "import plotly.express as px\n",
    "import plotly.offline as py\n",
    "import matplotlib.pyplot as plt\n",
    "import seaborn as sns\n",
    "from bokeh.plotting import figure, output_notebook, output_file, reset_output, show\n",
    "from bokeh.models import ColumnDataSource, Legend, HoverTool\n",
    "from bokeh.palettes import viridis\n"
   ]
  },
  {
   "cell_type": "code",
   "execution_count": 144,
   "metadata": {},
   "outputs": [],
   "source": [
    "fig = figure(title='Accumulated changes of stock prices',title_location='above',\n",
    "            plot_width=1000,plot_height=500,\n",
    "            y_axis_label=\"% Accumulated changes\",\n",
    "            x_axis_label=\"Date\", x_axis_type=\"datetime\",\n",
    "            tools=\"reset,save\")\n",
    "\n",
    "line={}\n",
    "items=[]\n",
    "for i in range(len(Companies)):\n",
    "    source = ColumnDataSource(\n",
    "       data={'Date':company_data.loc[company_data.Company== Companies[i]].Date,\n",
    "           'Company':company_data.loc[company_data.Company == Companies[i]].Company,\n",
    "           'Change_acc':company_data.loc[company_data.Company == Companies[i]].Change_acc})\n",
    "    line[Companies[i]]=fig.line(x='Date',y='Change_acc', source=source, color = (colors[i]))     \n",
    "    items.append((Companies[i], [line[Companies[i]]]))\n",
    "        \n",
    "legend = Legend(items=items, location=(0, 0))\n",
    "hover = HoverTool(tooltips =[('Company','@Company'),('Date','@Date{%F}'),('Change_acc','@Change_acc')],formatters={'@Date': 'datetime'})\n",
    "fig.add_tools(hover)\n",
    "fig.add_layout(legend, 'right')\n",
    "fig.legend.click_policy=\"hide\"\n",
    "show(fig)"
   ]
  },
  {
   "cell_type": "code",
   "execution_count": null,
   "metadata": {},
   "outputs": [],
   "source": []
  },
  {
   "cell_type": "code",
   "execution_count": null,
   "metadata": {},
   "outputs": [],
   "source": []
  },
  {
   "cell_type": "code",
   "execution_count": null,
   "metadata": {},
   "outputs": [],
   "source": []
  },
  {
   "cell_type": "code",
   "execution_count": null,
   "metadata": {},
   "outputs": [],
   "source": []
  },
  {
   "cell_type": "code",
   "execution_count": null,
   "metadata": {},
   "outputs": [],
   "source": []
  },
  {
   "cell_type": "code",
   "execution_count": null,
   "metadata": {},
   "outputs": [],
   "source": []
  },
  {
   "cell_type": "code",
   "execution_count": null,
   "metadata": {},
   "outputs": [],
   "source": []
  },
  {
   "cell_type": "code",
   "execution_count": null,
   "metadata": {},
   "outputs": [],
   "source": []
  },
  {
   "cell_type": "code",
   "execution_count": null,
   "metadata": {},
   "outputs": [],
   "source": []
  },
  {
   "cell_type": "code",
   "execution_count": null,
   "metadata": {},
   "outputs": [],
   "source": []
  }
 ],
 "metadata": {
  "kernelspec": {
   "display_name": "Python 3",
   "language": "python",
   "name": "python3"
  },
  "language_info": {
   "codemirror_mode": {
    "name": "ipython",
    "version": 3
   },
   "file_extension": ".py",
   "mimetype": "text/x-python",
   "name": "python",
   "nbconvert_exporter": "python",
   "pygments_lexer": "ipython3",
   "version": "3.7.7"
  }
 },
 "nbformat": 4,
 "nbformat_minor": 4
}
